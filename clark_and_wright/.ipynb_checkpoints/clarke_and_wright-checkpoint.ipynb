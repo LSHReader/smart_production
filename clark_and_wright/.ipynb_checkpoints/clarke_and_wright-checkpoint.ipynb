{
 "cells": [
  {
   "cell_type": "code",
   "execution_count": 1,
   "metadata": {},
   "outputs": [],
   "source": [
    "import numpy as np  \n",
    "import networkx as nx  "
   ]
  },
  {
   "cell_type": "markdown",
   "metadata": {},
   "source": [
    "__Reference__   \n",
    "https://networkx.github.io/documentation/networkx-1.7/reference/generated/networkx.convert.to_numpy_matrix.html"
   ]
  },
  {
   "cell_type": "markdown",
   "metadata": {},
   "source": [
    "필요한 matrix\n",
    "\n",
    "1. Half matrix : 인접행렬 + 거리행렬 \n",
    "2. Net Saving: Half Matrix를 통해 만들어짐 \n",
    "3. T matrix: 각 노드들 간의 연결된 line의 수를 나타냄 -> 경로 나타내는 matrix  \n",
    "\n",
    "추가 데이터   \n",
    "Demand array = 각 노드에서 요구하는 demand. capacity 제약 고려할 때 쓰인다.  \n",
    "Vehicle Capacity Q\n",
    "각 single route가 vehicle capacity Q를 넘지 않는지 검토해 주어야\n",
    "\n",
    "Q: graph가 굳이 필요한가? 그냥 half matrix로 입력 받아서 시작하면 안되는지? -> 그냥 half matrix 받아서 시작하자   \n",
    "T matrix도 graph 없이 그냥 처음에 initialize 할 수 있는 거 아닌지? -> graph 없이 하자   \n",
    "    for문 돌려서 row index가 0인 row의 element값을 모두 2로 바꿔주면 되니까.     "
   ]
  },
  {
   "cell_type": "markdown",
   "metadata": {},
   "source": [
    "### Functions"
   ]
  },
  {
   "cell_type": "code",
   "execution_count": 217,
   "metadata": {},
   "outputs": [],
   "source": [
    "def initialize(N): # N = # of nodes   \n",
    "    ###### 알고리즘 맨 처음 half matrix와 T matrix를 초기화함 (example에 따라서)  \n",
    "    \n",
    "    #initialize node lists\n",
    "    nodelist = []\n",
    "    for i in range(N):  \n",
    "        nodelist += [i] \n",
    "    \n",
    "    #initialize half matrix by networkx\n",
    "    half_mat = np.array([[-1,10,12,15,7],[-1,-1,5,12,11],[-1,-1,-1,7,9],[-1,-1,-1,-1,10],[-1,-1,-1,-1,-1]]) \n",
    "    \n",
    "    \n",
    "    #initialize T matrix by number of nodes  \n",
    "    t_mat = np.full((N,N),0)   \n",
    "    for i in range(1,len(nodelist)):  \n",
    "        t_mat[0,i] = 2  #step2, assign routes between start node zero and each other node \n",
    "    \n",
    "\n",
    "    \n",
    "    #initialize demand vector\n",
    "    demand = np.array([0,7,2,5,3]) #각각 node 0,1,2,3,4를 방문 시 demand \n",
    "    \n",
    "    return half_mat, t_mat, demand"
   ]
  },
  {
   "cell_type": "code",
   "execution_count": 3,
   "metadata": {},
   "outputs": [],
   "source": [
    "def calculate_net_saving(half_mat, N):\n",
    "    # Half matrix를 이용해서 Net saving 행렬 계산\n",
    "    # Sij = C0i + C0j - Cij \n",
    "    # 예외처리 필수 \n",
    "    \n",
    "    net_saving_mat = np.full((N,N),-1)  \n",
    "    \n",
    "    for i in range(N):\n",
    "        for j in range(i,N):\n",
    "            if (half_mat[0,i] != -1 & half_mat[0,j] != -1 & half_mat[i,j] != -1):  \n",
    "                net_saving_mat[i,j] = half_mat[0,i] + half_mat[0,j] - half_mat[i,j]  \n",
    "            else:\n",
    "                continue  \n",
    "    \n",
    "    return net_saving_mat    "
   ]
  },
  {
   "cell_type": "code",
   "execution_count": 176,
   "metadata": {},
   "outputs": [],
   "source": [
    "##### step 5\n",
    "#### choise cell (i,j) satisfying following three conditions "
   ]
  },
  {
   "cell_type": "code",
   "execution_count": 4,
   "metadata": {},
   "outputs": [],
   "source": [
    "def max_net_saving(half_mat, t_mat, net_saving_mat, demand, N,  Q):\n",
    "    # constraint의 경우 3가지의 conditions와, unconstraint의 경우 2가지의 conditions를 만족하면서 net saving\n",
    "    # 이 가장 큰 index 반환   \n",
    "    \n",
    "    # step5의 3가지 조건 (or 2가지 조건) 을 만족하는 (i,j) 쌍을 모두 받아와야함  \n",
    "    # 받아온 (i,j) 중에서 net saving이 가장 큰 경우에 t_mat을 변형하고 반환하기\n",
    "    \n",
    "    # checking three conditions \n",
    "    \n",
    "    cells = []\n",
    "\n",
    "    for i in range(N):\n",
    "        for j in range(N):\n",
    "            t_temp = change_t_mat(t_mat, i, j)\n",
    "            if (t_mat[0,i] > 0 & t_mat[0,j] > 0) & check_routes(t_mat, i, j) & check_capacity(t_temp, demand, N, Q):\n",
    "                cells += [[i,j]] # push   \n",
    "                \n",
    "    #cells 중에서 net saving이 가장 큰 순서쌍 찾기\n",
    "    max_i = -1\n",
    "    max_j = -1 \n",
    "    max_net_saving = -10 \n",
    "    for idx in range(len(cells)):\n",
    "        i = cells[idx][0]\n",
    "        j = cells[idx][1] \n",
    "        if net_saving_mat[i,j] > max_net_saving:\n",
    "            max_i = i\n",
    "            max_j = j\n",
    "            max_net_saving = net_saving_mat[i,j]\n",
    "    \n",
    "    # t_mat과 net_saving_mat을 변형\n",
    "    net_saving_mat[max_i,max_j] = -1\n",
    "    t_mat = change_t_mat(t_mat,max_i,max_j)\n",
    "            \n",
    "    return t_mat "
   ]
  },
  {
   "cell_type": "code",
   "execution_count": 11,
   "metadata": {},
   "outputs": [],
   "source": [
    "def change_t_mat(t_mat, i, j):\n",
    "    t_mat[0,i] = t_mat[0,i] -1\n",
    "    t_mat[0,j] = t_mat[0,j] -1\n",
    "    t_mat[i,j] = t_mat[i,j] +1   \n",
    "    \n",
    "    return t_mat   "
   ]
  },
  {
   "cell_type": "code",
   "execution_count": null,
   "metadata": {},
   "outputs": [],
   "source": [
    "#### constraint 2\n",
    "### node i and node j are not already on the same route or loop "
   ]
  },
  {
   "cell_type": "code",
   "execution_count": 177,
   "metadata": {},
   "outputs": [],
   "source": [
    "def check_routes(t_mat, i, j):\n",
    "    #t_mat의 모든 routes를 받아와서, 각 route에 i랑 j가 동시에 포함되어 있는지 검사 \n",
    "    available_flag = True #현재 존재하는 routes상에서 존재하지 않아서, 삽입 가능하다 \n",
    "    \n",
    "    routes = search_all_route(t_mat) \n",
    "    \n",
    "    for route_idx, route in enumerate(routes):\n",
    "        if (i in route) and (j in route):\n",
    "            available_flag = False  \n",
    "    \n",
    "    return available_flag "
   ]
  },
  {
   "cell_type": "code",
   "execution_count": 183,
   "metadata": {},
   "outputs": [],
   "source": [
    "def search_all_route(t_mat):\n",
    "    #해당 t_mat의 모든 routes를 담은 list를 리턴해주는 함수\n",
    "    #ex) return [[0,1,0],[0,2,3,0],[0,4,0]]  \n",
    "    \n",
    "    routes = []\n",
    "    #print(initial_route)\n",
    "    \n",
    "    for j in range(t_mat.shape[1]): #0부터 시작하는 route에 대해서(가장 바깥 탐색) \n",
    "        if t_mat[0,j] == 2:\n",
    "            routes += [[0, j, 0]]   \n",
    "            #print(\"all routes:{}\".format(routes))\n",
    "        elif t_mat[0,j] == 1:   \n",
    "            if check_append_available(0, j, routes): #이미 이전 경로에 포함되어 있는 노드들인지 \n",
    "                tmp_route = [[0, j]] \n",
    "                tmp_route = dfs(t_mat, j, tmp_route, routes)  \n",
    "                #마지막 장소에서 0으로 가는 것이 탐색되지 않는 경우 예외처리 # [0,2,3] -> [0,2,3,0]  \n",
    "                last_node = tmp_route[len(tmp_route)-1][len(tmp_route[len(tmp_route)-1])-1]\n",
    "                if t_mat[0,last_node] == 1:\n",
    "                    tmp_route[len(tmp_route)-1].append(0)\n",
    "                \n",
    "                routes += tmp_route \n",
    "        else: \n",
    "            continue\n",
    "    \n",
    "    return routes "
   ]
  },
  {
   "cell_type": "code",
   "execution_count": 184,
   "metadata": {},
   "outputs": [],
   "source": [
    "def dfs(t_mat, row_idx, tmp_route, routes):\n",
    "\n",
    "    \n",
    "    if row_idx == 0: #종료조건. 다시 출발 지점으로 돌아왔다면 탐색 끝 #지금의 t_mat으로는 이 조건 실행될 일 없음.. 마지막노드랑 0이랑 연결 안되어있음 \n",
    "        print(tmp_route)\n",
    "        return tmp_route\n",
    "    \n",
    "    else:\n",
    "        for j in range(t_mat.shape[1]):\n",
    "            if t_mat[row_idx, j] == 1 and check_append_available(row_idx, j, routes):\n",
    "                print(\"execute\")\n",
    "                tmp_route[len(tmp_route)-1].append(j)\n",
    "                print(tmp_route)\n",
    "                tmp_route = dfs(t_mat, j, tmp_route, routes)   \n",
    "                \n",
    "\n",
    "        return tmp_route\n",
    "    "
   ]
  },
  {
   "cell_type": "code",
   "execution_count": 213,
   "metadata": {},
   "outputs": [],
   "source": [
    "def check_append_available(i, j, routes): #이미 경로속에 존재하는 노드들인지 검사\n",
    "    flag = True\n",
    "    for route_idx, route in enumerate(routes):\n",
    "        if (i in route) and (j in route):\n",
    "            flag = False\n",
    "    \n",
    "    return flag    "
   ]
  },
  {
   "cell_type": "code",
   "execution_count": null,
   "metadata": {},
   "outputs": [],
   "source": [
    "#### condition 3\n",
    "### check all routes not exceed capacity of vehicle \"Q\"  "
   ]
  },
  {
   "cell_type": "code",
   "execution_count": 221,
   "metadata": {},
   "outputs": [],
   "source": [
    "def check_capacity(t_mat, demand, N, Q):  \n",
    "    #t_mat이 변경되었을 때 capacity 조건을 만족하는가?  \n",
    "    \n",
    "    flag = True #capacity 다 만족하고 삽입가능하다 -> True\n",
    "    #receive routes list of all routes  \n",
    "    routes = search_all_route(t_mat) \n",
    "    \n",
    "    #check one above routes exceed capacity or not \n",
    "    for route_idx, route in enumerate(routes):\n",
    "        #print(route)\n",
    "        current_capacity = 0\n",
    "        for i in range(len(route)):  \n",
    "            #print(route[i])\n",
    "            current_capacity += demand[route[i]]\n",
    "        print(current_capacity)\n",
    "        if current_capacity > Q:\n",
    "            #print(current_capacity)\n",
    "            flag = False\n",
    "            return flag \n",
    "    \n",
    "    return flag "
   ]
  },
  {
   "cell_type": "markdown",
   "metadata": {},
   "source": [
    "### main"
   ]
  },
  {
   "cell_type": "code",
   "execution_count": 218,
   "metadata": {},
   "outputs": [
    {
     "name": "stdout",
     "output_type": "stream",
     "text": [
      "[[-1 10 12 15  7]\n",
      " [-1 -1  5 12 11]\n",
      " [-1 -1 -1  7  9]\n",
      " [-1 -1 -1 -1 10]\n",
      " [-1 -1 -1 -1 -1]]\n",
      "[[0 2 2 2 2]\n",
      " [0 0 0 0 0]\n",
      " [0 0 0 0 0]\n",
      " [0 0 0 0 0]\n",
      " [0 0 0 0 0]]\n",
      "[0 7 2 5 3]\n"
     ]
    }
   ],
   "source": [
    "# step1, (step2 + step4)  \n",
    "N = 5 # number of nodes  \n",
    "Q = 10 #각 vehicle capacity  \n",
    "half_mat, t_mat, demand = initialize(N)     \n",
    "print(half_mat)    \n",
    "print(t_mat)    \n",
    "print(demand)"
   ]
  },
  {
   "cell_type": "code",
   "execution_count": 188,
   "metadata": {},
   "outputs": [
    {
     "name": "stdout",
     "output_type": "stream",
     "text": [
      "[[-2  9 11 14  6]\n",
      " [ 9 -2  4 11 10]\n",
      " [11  4 -2  6  8]\n",
      " [14 11  6 -2  9]\n",
      " [ 6 10  8  9 -2]]\n"
     ]
    }
   ],
   "source": [
    "half_mat_transpose = np.transpose(half_mat)\n",
    "half_mat_combine = half_mat + half_mat_transpose\n",
    "print(half_mat_combine)"
   ]
  },
  {
   "cell_type": "code",
   "execution_count": 180,
   "metadata": {},
   "outputs": [
    {
     "name": "stdout",
     "output_type": "stream",
     "text": [
      "[[-1 -1 -1 -1 -1]\n",
      " [-1 -1 17 13  6]\n",
      " [-1 -1 -1 20 10]\n",
      " [-1 -1 -1 -1 12]\n",
      " [-1 -1 -1 -1 -1]]\n"
     ]
    }
   ],
   "source": [
    "# step3\n",
    "net_saving_mat = calculate_net_saving(half_mat, N)  \n",
    "print(net_saving_mat)"
   ]
  },
  {
   "cell_type": "code",
   "execution_count": 196,
   "metadata": {},
   "outputs": [
    {
     "name": "stdout",
     "output_type": "stream",
     "text": [
      "[[0, 1, 0], [0, 2, 0], [0, 3, 0], [0, 4, 0]]\n"
     ]
    }
   ],
   "source": [
    "# step5   \n",
    "routes = search_all_route(t_mat)\n",
    "print(routes)"
   ]
  },
  {
   "cell_type": "code",
   "execution_count": 195,
   "metadata": {},
   "outputs": [
    {
     "data": {
      "text/plain": [
       "True"
      ]
     },
     "execution_count": 195,
     "metadata": {},
     "output_type": "execute_result"
    }
   ],
   "source": [
    "check_routes(t_mat, 2, 3)"
   ]
  },
  {
   "cell_type": "code",
   "execution_count": 222,
   "metadata": {},
   "outputs": [
    {
     "name": "stdout",
     "output_type": "stream",
     "text": [
      "7\n",
      "2\n",
      "5\n",
      "3\n"
     ]
    },
    {
     "data": {
      "text/plain": [
       "True"
      ]
     },
     "execution_count": 222,
     "metadata": {},
     "output_type": "execute_result"
    }
   ],
   "source": [
    "check_capacity(t_mat, demand, N, Q)"
   ]
  },
  {
   "cell_type": "code",
   "execution_count": 175,
   "metadata": {},
   "outputs": [
    {
     "name": "stdout",
     "output_type": "stream",
     "text": [
      "execute\n",
      "[[0, 1, 2]]\n",
      "execute\n",
      "[[0, 1, 2, 3]]\n",
      "all routes:[[0, 1, 2, 3, 0], [0, 4, 0]]\n",
      "[[0, 1, 2, 3, 0], [0, 4, 0]]\n"
     ]
    }
   ],
   "source": [
    "# change t_mat (temporarily for test)   \n",
    "# case represented on unstraint \n",
    "t_m = np.array([[0,1,0,1,2],[0,0,1,0,0],[0,0,0,1,0],[0,0,0,0,0],[0,0,0,0,0]])\n",
    "routes = search_all_route(t_m)\n",
    "print(routes) "
   ]
  },
  {
   "cell_type": "code",
   "execution_count": 171,
   "metadata": {},
   "outputs": [
    {
     "name": "stdout",
     "output_type": "stream",
     "text": [
      "all routes:[[0, 1, 0]]\n",
      "execute\n",
      "[[0, 2, 3]]\n",
      "all routes:[[0, 1, 0], [0, 2, 3, 0], [0, 4, 0]]\n",
      "[[0, 1, 0], [0, 2, 3, 0], [0, 4, 0]]\n"
     ]
    }
   ],
   "source": [
    "# change t_mat (temporarily for test)   \n",
    "# case represented on constraint \n",
    "t_m = np.array([[0,2,1,1,2],[0,0,0,0,0],[0,0,0,1,0],[0,0,0,0,0],[0,0,0,0,0]])\n",
    "routes = search_all_route(t_m)\n",
    "print(routes) "
   ]
  },
  {
   "cell_type": "code",
   "execution_count": 174,
   "metadata": {},
   "outputs": [
    {
     "name": "stdout",
     "output_type": "stream",
     "text": [
      "all routes:[[0, 1, 0]]\n",
      "execute\n",
      "[[0, 2, 3]]\n",
      "execute\n",
      "[[0, 2, 3, 4]]\n",
      "[[0, 1, 0], [0, 2, 3, 4, 0]]\n"
     ]
    }
   ],
   "source": [
    "# change t_mat (temporarily for test)   \n",
    "# case represented on constraint \n",
    "t_m = np.array([[0,2,1,0,1],[0,0,0,0,0],[0,0,0,1,0],[0,0,0,0,1],[0,0,0,0,0]])\n",
    "routes = search_all_route(t_m)\n",
    "print(routes) "
   ]
  },
  {
   "cell_type": "markdown",
   "metadata": {},
   "source": [
    "### for tests (temporarily)"
   ]
  },
  {
   "cell_type": "code",
   "execution_count": 12,
   "metadata": {},
   "outputs": [
    {
     "data": {
      "text/plain": [
       "[[1, 1]]"
      ]
     },
     "execution_count": 12,
     "metadata": {},
     "output_type": "execute_result"
    }
   ],
   "source": [
    "cells = []\n",
    "cells = cells + [[1,1]]  \n",
    "cells"
   ]
  },
  {
   "cell_type": "code",
   "execution_count": 13,
   "metadata": {},
   "outputs": [
    {
     "data": {
      "text/plain": [
       "[[1, 1], [2, 2]]"
      ]
     },
     "execution_count": 13,
     "metadata": {},
     "output_type": "execute_result"
    }
   ],
   "source": [
    "cells = cells + [[2,2]]\n",
    "cells"
   ]
  },
  {
   "cell_type": "code",
   "execution_count": 14,
   "metadata": {},
   "outputs": [
    {
     "data": {
      "text/plain": [
       "1"
      ]
     },
     "execution_count": 14,
     "metadata": {},
     "output_type": "execute_result"
    }
   ],
   "source": [
    "cells[0][1]"
   ]
  },
  {
   "cell_type": "code",
   "execution_count": 15,
   "metadata": {},
   "outputs": [
    {
     "data": {
      "text/plain": [
       "5"
      ]
     },
     "execution_count": 15,
     "metadata": {},
     "output_type": "execute_result"
    }
   ],
   "source": [
    "len(t_mat)"
   ]
  },
  {
   "cell_type": "code",
   "execution_count": 168,
   "metadata": {},
   "outputs": [
    {
     "name": "stdout",
     "output_type": "stream",
     "text": [
      "[[0, 1, 0], [0, 2, 3]]\n"
     ]
    }
   ],
   "source": [
    "cells = [[0,1,0],[0,2]]\n",
    "cells[len(cells)-1].append(3)\n",
    "print(cells)"
   ]
  },
  {
   "cell_type": "code",
   "execution_count": 169,
   "metadata": {},
   "outputs": [
    {
     "data": {
      "text/plain": [
       "3"
      ]
     },
     "execution_count": 169,
     "metadata": {},
     "output_type": "execute_result"
    }
   ],
   "source": [
    "cells[len(cells)-1][len(cells[len(cells)-1])-1]"
   ]
  },
  {
   "cell_type": "code",
   "execution_count": 161,
   "metadata": {},
   "outputs": [
    {
     "data": {
      "text/plain": [
       "False"
      ]
     },
     "execution_count": 161,
     "metadata": {},
     "output_type": "execute_result"
    }
   ],
   "source": [
    "0 in [0,2,3] and 1 in [0,2,3]"
   ]
  },
  {
   "cell_type": "code",
   "execution_count": 30,
   "metadata": {},
   "outputs": [
    {
     "name": "stdout",
     "output_type": "stream",
     "text": [
      "1\n",
      "[[4]]\n"
     ]
    }
   ],
   "source": [
    "cells = [[]]\n",
    "print(len(cells))\n",
    "cells[len(cells)-1].append(4)\n",
    "print(cells)"
   ]
  },
  {
   "cell_type": "code",
   "execution_count": 93,
   "metadata": {},
   "outputs": [
    {
     "data": {
      "text/plain": [
       "array([[0, 0, 0, 0, 0],\n",
       "       [2, 0, 0, 0, 0],\n",
       "       [2, 0, 0, 0, 0],\n",
       "       [2, 0, 0, 0, 0],\n",
       "       [2, 0, 0, 0, 0]])"
      ]
     },
     "execution_count": 93,
     "metadata": {},
     "output_type": "execute_result"
    }
   ],
   "source": [
    "np.transpose(t_mat)"
   ]
  }
 ],
 "metadata": {
  "kernelspec": {
   "display_name": "Python 3",
   "language": "python",
   "name": "python3"
  },
  "language_info": {
   "codemirror_mode": {
    "name": "ipython",
    "version": 3
   },
   "file_extension": ".py",
   "mimetype": "text/x-python",
   "name": "python",
   "nbconvert_exporter": "python",
   "pygments_lexer": "ipython3",
   "version": "3.6.5"
  }
 },
 "nbformat": 4,
 "nbformat_minor": 2
}
