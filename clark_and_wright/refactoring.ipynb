{
 "cells": [
  {
   "cell_type": "markdown",
   "metadata": {},
   "source": [
    "## Refactoring\n",
    "### change half_matrix to all adjacency matrix\n",
    "### add visited vector of nodes"
   ]
  },
  {
   "cell_type": "code",
   "execution_count": 1,
   "metadata": {},
   "outputs": [],
   "source": [
    "import numpy as np  "
   ]
  },
  {
   "cell_type": "code",
   "execution_count": 2,
   "metadata": {},
   "outputs": [],
   "source": [
    "def initialize(N): # N = # of nodes   \n",
    "    ###### 알고리즘 맨 처음 half matrix와 T matrix를 초기화함 (example에 따라서)  \n",
    "    \n",
    "    #initialize node lists\n",
    "    nodelist = []\n",
    "    for i in range(N):  \n",
    "        nodelist += [i] \n",
    "    \n",
    "    #initialize half matrix by networkx\n",
    "    half_mat = np.array([[-1,10,12,15,7],[-1,-1,5,12,11],[-1,-1,-1,7,9],[-1,-1,-1,-1,10],[-1,-1,-1,-1,-1]])   \n",
    "    \n",
    "    \n",
    "    #initialize T matrix by number of nodes  \n",
    "    t_mat = np.full((N,N),0)   \n",
    "    for i in range(1,len(nodelist)):  \n",
    "        t_mat[0,i] = 2  #step2, assign routes between start node zero and each other node \n",
    "        \n",
    "    #initialize demand vector\n",
    "    demand = np.array([0,7,2,5,3]) #각각 node 0,1,2,3,4를 방문 시 demand  \n",
    "    \n",
    "    return half_mat, t_mat, demand  "
   ]
  },
  {
   "cell_type": "code",
   "execution_count": 3,
   "metadata": {},
   "outputs": [],
   "source": [
    "def calculate_net_saving(half_mat, N):\n",
    "    # Half matrix를 이용해서 Net saving 행렬 계산\n",
    "    # Sij = C0i + C0j - Cij \n",
    "    # 예외처리 필수 \n",
    "    \n",
    "    net_saving_mat = np.full((N,N),-1)   \n",
    "    \n",
    "    for i in range(N):\n",
    "        for j in range(i,N):\n",
    "            if (half_mat[0,i] != -1 & half_mat[0,j] != -1 & half_mat[i,j] != -1):  \n",
    "                net_saving_mat[i,j] = half_mat[0,i] + half_mat[0,j] - half_mat[i,j]  \n",
    "            else:\n",
    "                continue  \n",
    "    \n",
    "    return net_saving_mat    "
   ]
  },
  {
   "cell_type": "code",
   "execution_count": 24,
   "metadata": {},
   "outputs": [],
   "source": [
    "def max_net_saving(half_mat, t_mat, net_saving_mat, demand, N,  Q):\n",
    "    # constraint의 경우 3가지의 conditions와, unconstraint의 경우 2가지의 conditions를 만족하면서 net saving\n",
    "    # 이 가장 큰 index 반환   \n",
    "    \n",
    "    # step5의 3가지 조건 (or 2가지 조건) 을 만족하는 (i,j) 쌍을 모두 받아와야함  \n",
    "    # 받아온 (i,j) 중에서 net saving이 가장 큰 경우에 t_mat을 변형하고 반환하기\n",
    "    \n",
    "    # dfs 탐색을 위해 change t_mat to all adjacency matrix \n",
    "    # 아래처럼 해야 포인터 참조 안함 \n",
    "    #indices = (t_mat != 0)\n",
    "    adjacency = make_adjacency_mat(t_mat)\n",
    "    # checking three conditions \n",
    "    cells = []\n",
    "\n",
    "    for i in range(N):\n",
    "        for j in range(N):  \n",
    "            t_temp = change_t_mat(t_mat, i, j)\n",
    "            tmp_adjacency = make_adjacency_mat(t_temp)\n",
    "            \n",
    "            if (t_mat[0,i] > 0 and t_mat[0,j] > 0) and check_routes(adjacency, i, j) and check_capacity(tmp_adjacency, demand, Q):  \n",
    "                cells += [[i,j]] # push   \n",
    " \n",
    "    #cells 중에서 net saving이 가장 큰 순서쌍 찾기\n",
    "    max_i = -1  \n",
    "    max_j = -1   \n",
    "    max_net_saving = -10000\n",
    "    \n",
    "    for idx in range(len(cells)):\n",
    "        i = cells[idx][0]\n",
    "        j = cells[idx][1] \n",
    "        if net_saving_mat[i,j] > max_net_saving:\n",
    "            max_i = i\n",
    "            max_j = j\n",
    "            max_net_saving = net_saving_mat[i,j]\n",
    "    \n",
    "    # t_mat과 net_saving_mat을 변형\n",
    "    print(\"max_i: {}\".format(max_i))\n",
    "    print(\"max_j: {}\".format(max_j))\n",
    "    net_saving_mat[max_i,max_j] = -1 \n",
    "    t_mat = change_t_mat(t_mat,max_i,max_j)\n",
    "    adjacency = make_adjacency_mat(t_mat)\n",
    "    \n",
    "    \n",
    "    return t_mat, adjacency, net_saving_mat, cells "
   ]
  },
  {
   "cell_type": "code",
   "execution_count": 5,
   "metadata": {},
   "outputs": [],
   "source": [
    "def make_adjacency_mat(t_mat): \n",
    "    \n",
    "    adjacency = np.copy(t_mat) \n",
    "    adjacency_t = np.transpose(adjacency)\n",
    "    adjacency = adjacency + adjacency_t\n",
    "    \n",
    "    return adjacency"
   ]
  },
  {
   "cell_type": "code",
   "execution_count": 6,
   "metadata": {},
   "outputs": [],
   "source": [
    "def change_t_mat(t_mat, i, j): \n",
    "    #initialize \n",
    "    tmp_t_mat = np.copy(t_mat)  \n",
    "    \n",
    "    #change\n",
    "    tmp_t_mat[0,i] -= 1\n",
    "    tmp_t_mat[0,j] -= 1\n",
    "    tmp_t_mat[i,j] += 1 \n",
    "    #print(\"t_mat:{}\".format(t_mat))\n",
    "    #print(\"tmp_t_mat:{}\".format(tmp_t_mat))\n",
    "    \n",
    "    return tmp_t_mat   "
   ]
  },
  {
   "cell_type": "code",
   "execution_count": 8,
   "metadata": {},
   "outputs": [],
   "source": [
    "#### constraint2"
   ]
  },
  {
   "cell_type": "code",
   "execution_count": 7,
   "metadata": {},
   "outputs": [],
   "source": [
    "def check_routes(adjacency, i, j):\n",
    "    #t_mat의 모든 routes를 받아와서, 각 route에 i랑 j가 동시에 포함되어 있는지 검사 \n",
    "    available_flag = True #현재 존재하는 routes상에서 존재하지 않아서, 삽입 가능하다 \n",
    "    \n",
    "    routes = search_all_route(adjacency) \n",
    "    \n",
    "    for route_idx, route in enumerate(routes):    \n",
    "        if (i in route) and (j in route):  \n",
    "            available_flag = False  \n",
    "    \n",
    "    return available_flag "
   ]
  },
  {
   "cell_type": "code",
   "execution_count": 18,
   "metadata": {},
   "outputs": [],
   "source": [
    "def search_all_route(adjacency):  \n",
    "    #해당 t_mat의 모든 routes를 담은 list를 리턴해주는 함수\n",
    "    #ex) return [[0,1,0],[0,2,3,0],[0,4,0]]  \n",
    "    \n",
    "    routes = []\n",
    "    visited = np.zeros(len(adjacency)) ############새로도입 -> route구할 때만 0번 노드 방문기록 초기화 \n",
    "\n",
    "    #일부 dfs에서 아이디어 차용  \n",
    "    for j in range(1,len(adjacency)): #0빼고 탐색 \n",
    "        #재탐색을 위한 초기화\n",
    "        stack = [] \n",
    "        stack.append(0) \n",
    "        visited[0] = 0 #0에 대해서만 초기화 \n",
    "        route = []\n",
    "        \n",
    "        while(stack):\n",
    "            cur_node = stack.pop()\n",
    "            visited[cur_node] = 1\n",
    "            route += [cur_node]\n",
    "            #print(route)  \n",
    "            for col in range(1,len(adjacency)):\n",
    "                if(adjacency[cur_node, col] != 0) and (visited[col] == 0): #인접했고, 아직 방문한 노드 아닐 때 \n",
    "                    stack.append(col)  \n",
    "                    break #이부분 매우 중요\n",
    "                    \n",
    "        if route != [0] and adjacency[route[len(route)-1], 0] != 0: # [0]으로 된 route는 route가 아니므로 빼주기, 마지막으로 탐색된 노드랑 출발노드인 0이랑 이어져 있는지 \n",
    "            route += [0]\n",
    "            routes += [route]\n",
    "        \n",
    "    #print(routes)\n",
    "    return routes   "
   ]
  },
  {
   "cell_type": "code",
   "execution_count": 10,
   "metadata": {},
   "outputs": [],
   "source": [
    "####### constraint 3"
   ]
  },
  {
   "cell_type": "code",
   "execution_count": 11,
   "metadata": {},
   "outputs": [],
   "source": [
    "def check_capacity(adjacency, demand, Q):  \n",
    "    #t_mat이 변경되었을 때 capacity 조건을 만족하는가?  \n",
    "    \n",
    "    flag = True #capacity 다 만족하고 삽입가능하다 -> True\n",
    "    #receive routes list of all routes  \n",
    "    routes = search_all_route(adjacency)   \n",
    "    \n",
    "    #check one above routes exceed capacity or not \n",
    "    for route_idx, route in enumerate(routes):\n",
    "        #print(route)\n",
    "        current_capacity = 0\n",
    "        for i in range(len(route)):  \n",
    "            #print(route[i])\n",
    "            current_capacity += demand[route[i]]\n",
    "        #print(current_capacity)\n",
    "        if current_capacity > Q:\n",
    "            #print(current_capacity)\n",
    "            flag = False\n",
    "            return flag \n",
    "    \n",
    "    return flag "
   ]
  },
  {
   "cell_type": "markdown",
   "metadata": {},
   "source": [
    "__Example__  \n",
    "- constraint on ppt"
   ]
  },
  {
   "cell_type": "code",
   "execution_count": 32,
   "metadata": {},
   "outputs": [
    {
     "name": "stdout",
     "output_type": "stream",
     "text": [
      "[[-1 10 12 15  7]\n",
      " [-1 -1  5 12 11]\n",
      " [-1 -1 -1  7  9]\n",
      " [-1 -1 -1 -1 10]\n",
      " [-1 -1 -1 -1 -1]]\n",
      "[[0 2 2 2 2]\n",
      " [0 0 0 0 0]\n",
      " [0 0 0 0 0]\n",
      " [0 0 0 0 0]\n",
      " [0 0 0 0 0]]\n",
      "[0 7 2 5 3]\n",
      "[[-1 -1 -1 -1 -1]\n",
      " [-1 -1 17 13  6]\n",
      " [-1 -1 -1 20 10]\n",
      " [-1 -1 -1 -1 12]\n",
      " [-1 -1 -1 -1 -1]]\n",
      "[[0 2 2 2 2]\n",
      " [0 0 0 0 0]\n",
      " [0 0 0 0 0]\n",
      " [0 0 0 0 0]\n",
      " [0 0 0 0 0]]\n",
      "[[0 2 2 2 2]\n",
      " [2 0 0 0 0]\n",
      " [2 0 0 0 0]\n",
      " [2 0 0 0 0]\n",
      " [2 0 0 0 0]]\n",
      "[[0, 1, 0], [0, 2, 0], [0, 3, 0], [0, 4, 0]]\n"
     ]
    }
   ],
   "source": [
    "# step1, (step2 + step4)  \n",
    "N = 5 # number of nodes  \n",
    "Q = 10 #각 vehicle capacity  \n",
    "half_mat, t_mat, demand = initialize(N)  \n",
    "net_saving_mat = calculate_net_saving(half_mat, N)\n",
    "print(half_mat)    \n",
    "print(t_mat)    \n",
    "print(demand) \n",
    "print(net_saving_mat)   \n",
    "print(t_mat)\n",
    "adjacency = make_adjacency_mat(t_mat)\n",
    "print(adjacency)\n",
    "routes = search_all_route(adjacency)\n",
    "print(routes)"
   ]
  },
  {
   "cell_type": "code",
   "execution_count": 26,
   "metadata": {},
   "outputs": [
    {
     "name": "stdout",
     "output_type": "stream",
     "text": [
      "max_i: 2\n",
      "max_j: 3\n",
      "[[0 2 1 1 2]\n",
      " [0 0 0 0 0]\n",
      " [0 0 0 1 0]\n",
      " [0 0 0 0 0]\n",
      " [0 0 0 0 0]]\n",
      "[[0 2 1 1 2]\n",
      " [2 0 0 0 0]\n",
      " [1 0 0 1 0]\n",
      " [1 0 1 0 0]\n",
      " [2 0 0 0 0]]\n",
      "[[-1 -1 -1 -1 -1]\n",
      " [-1 -1 17 13  6]\n",
      " [-1 -1 -1 -1 10]\n",
      " [-1 -1 -1 -1 12]\n",
      " [-1 -1 -1 -1 -1]]\n",
      "[[1, 2], [1, 4], [2, 1], [2, 3], [2, 4], [3, 2], [3, 4], [4, 1], [4, 2], [4, 3]]\n",
      "[[0, 1, 0], [0, 2, 3, 0], [0, 4, 0]]\n"
     ]
    }
   ],
   "source": [
    "t_mat, adjacency, net_saving_mat, cells = max_net_saving(half_mat, t_mat, net_saving_mat, demand, N,  Q)\n",
    "print(t_mat)\n",
    "print(adjacency)\n",
    "print(net_saving_mat)\n",
    "print(cells)\n",
    "routes = search_all_route(adjacency)\n",
    "print(routes)  "
   ]
  },
  {
   "cell_type": "code",
   "execution_count": 27,
   "metadata": {},
   "outputs": [
    {
     "name": "stdout",
     "output_type": "stream",
     "text": [
      "max_i: 3\n",
      "max_j: 4\n",
      "[[0 2 1 0 1]\n",
      " [0 0 0 0 0]\n",
      " [0 0 0 1 0]\n",
      " [0 0 0 0 1]\n",
      " [0 0 0 0 0]]\n",
      "[[0 2 1 0 1]\n",
      " [2 0 0 0 0]\n",
      " [1 0 0 1 0]\n",
      " [0 0 1 0 1]\n",
      " [1 0 0 1 0]]\n",
      "[[-1 -1 -1 -1 -1]\n",
      " [-1 -1 17 13  6]\n",
      " [-1 -1 -1 -1 10]\n",
      " [-1 -1 -1 -1 -1]\n",
      " [-1 -1 -1 -1 -1]]\n",
      "[[1, 4], [2, 4], [3, 4], [4, 1], [4, 2], [4, 3]]\n",
      "[[0, 1, 0], [0, 2, 3, 4, 0]]\n"
     ]
    }
   ],
   "source": [
    "t_mat, adjacency, net_saving_mat, cells = max_net_saving(half_mat, t_mat, net_saving_mat, demand, N,  Q)\n",
    "print(t_mat)\n",
    "print(adjacency)\n",
    "print(net_saving_mat)\n",
    "print(cells)\n",
    "routes = search_all_route(adjacency)\n",
    "print(routes)  "
   ]
  },
  {
   "cell_type": "code",
   "execution_count": 28,
   "metadata": {},
   "outputs": [
    {
     "name": "stdout",
     "output_type": "stream",
     "text": [
      "max_i: -1\n",
      "max_j: -1\n",
      "[[ 0  2  1  0 -1]\n",
      " [ 0  0  0  0  0]\n",
      " [ 0  0  0  1  0]\n",
      " [ 0  0  0  0  1]\n",
      " [ 0  0  0  0  1]]\n",
      "[[ 0  2  1  0 -1]\n",
      " [ 2  0  0  0  0]\n",
      " [ 1  0  0  1  0]\n",
      " [ 0  0  1  0  1]\n",
      " [-1  0  0  1  2]]\n",
      "[[-1 -1 -1 -1 -1]\n",
      " [-1 -1 17 13  6]\n",
      " [-1 -1 -1 -1 10]\n",
      " [-1 -1 -1 -1 -1]\n",
      " [-1 -1 -1 -1 -1]]\n",
      "[]\n",
      "[[0, 1, 0], [0, 2, 3, 4, 0]]\n"
     ]
    }
   ],
   "source": [
    "t_mat, adjacency, net_saving_mat, cells = max_net_saving(half_mat, t_mat, net_saving_mat, demand, N,  Q)\n",
    "print(t_mat)\n",
    "print(adjacency)\n",
    "print(net_saving_mat) \n",
    "print(cells)\n",
    "routes = search_all_route(adjacency)\n",
    "print(routes)  "
   ]
  },
  {
   "cell_type": "markdown",
   "metadata": {},
   "source": [
    "__test__"
   ]
  },
  {
   "cell_type": "code",
   "execution_count": 30,
   "metadata": {},
   "outputs": [
    {
     "name": "stdout",
     "output_type": "stream",
     "text": [
      "[[0, 1, 4, 3, 2, 0]]\n"
     ]
    }
   ],
   "source": [
    "#case1 - single route \n",
    "adjacency = np.array([[0,1,1,0,0],[1,0,0,0,1],[1,0,0,1,0],[0,0,1,0,1],[0,1,0,1,0]])\n",
    "routes = search_all_route(adjacency) \n",
    "print(routes) "
   ]
  },
  {
   "cell_type": "code",
   "execution_count": 31,
   "metadata": {},
   "outputs": [
    {
     "name": "stdout",
     "output_type": "stream",
     "text": [
      "[[0, 1, 2, 4, 0], [0, 3, 0]]\n"
     ]
    }
   ],
   "source": [
    "#case2\n",
    "adjacency = np.array([[0,1,0,2,1],[1,0,1,0,0],[0,1,0,0,1],[2,0,1,0,1],[1,0,1,0,0]])\n",
    "routes = search_all_route(adjacency) \n",
    "print(routes) "
   ]
  },
  {
   "cell_type": "code",
   "execution_count": 33,
   "metadata": {},
   "outputs": [
    {
     "name": "stdout",
     "output_type": "stream",
     "text": [
      "[[0, 1, 0], [0, 2, 0], [0, 3, 0], [0, 4, 0]]\n"
     ]
    }
   ],
   "source": [
    "#case3\n",
    "adjacency = np.array([[0,2,2,2,2],[2,0,0,0,0],[2,0,0,0,0],[2,0,0,0,0],[2,0,0,0,0]])\n",
    "routes = search_all_route(adjacency)\n",
    "print(routes)"
   ]
  },
  {
   "cell_type": "code",
   "execution_count": 36,
   "metadata": {},
   "outputs": [
    {
     "name": "stdout",
     "output_type": "stream",
     "text": [
      "[[0, 1, 3, 2, 0], [0, 4, 0]]\n"
     ]
    }
   ],
   "source": [
    "#case4\n",
    "adjacency = np.array([[0,1,1,0,2],[1,0,0,1,0],[1,0,0,1,0],[0,1,1,0,0],[2,0,0,0,0]])\n",
    "routes = search_all_route(adjacency)\n",
    "print(routes)"
   ]
  },
  {
   "cell_type": "code",
   "execution_count": 37,
   "metadata": {},
   "outputs": [
    {
     "name": "stdout",
     "output_type": "stream",
     "text": [
      "[[0, 3, 2, 1, 4, 0]]\n"
     ]
    }
   ],
   "source": [
    "#case5\n",
    "adjacency = np.array([[0,0,0,1,1],[0,0,1,0,1],[0,1,0,1,0],[1,0,1,0,0],[1,1,0,0,0]])\n",
    "routes = search_all_route(adjacency) \n",
    "print(routes)"
   ]
  }
 ],
 "metadata": {
  "kernelspec": {
   "display_name": "Python 3",
   "language": "python",
   "name": "python3"
  },
  "language_info": {
   "codemirror_mode": {
    "name": "ipython",
    "version": 3
   },
   "file_extension": ".py",
   "mimetype": "text/x-python",
   "name": "python",
   "nbconvert_exporter": "python",
   "pygments_lexer": "ipython3",
   "version": "3.6.5"
  }
 },
 "nbformat": 4,
 "nbformat_minor": 2
}
