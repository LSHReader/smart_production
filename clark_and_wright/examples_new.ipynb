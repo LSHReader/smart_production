{
 "cells": [
  {
   "cell_type": "code",
   "execution_count": 13,
   "metadata": {},
   "outputs": [],
   "source": [
    "from clarkewright import *"
   ]
  },
  {
   "cell_type": "markdown",
   "metadata": {},
   "source": [
    "## Information of Functions in clarkewright.py  \n",
    "\n",
    "- half_mat, t_mat, demand, is_const = initialize(N, is_constraint)  \n",
    "\n",
    "- net_saving_mat = calculate_net_saving(half_mat, N)   \n",
    "\n",
    "- t_mat, adjacency, net_saving_mat, cells = max_net_saving(half_mat, t_mat, net_saving_mat, demand, is_constraint,  Q)    \n",
    "    - adjacency = make_adjacency_mat(t_mat)  \n",
    "    - tmp_t_mat = change_t_mat(t_mat, i, j)   \n",
    "    - available_flag = check_routes(adjacency, i, j)\n",
    "        - routes = search_all_route(adjacency)  \n",
    "    - flag = check_capacity(adjacency, demand, Q)\n",
    "        - routes = search_all_route(adjacency)  \n"
   ]
  },
  {
   "cell_type": "markdown",
   "metadata": {},
   "source": [
    "## Examples"
   ]
  },
  {
   "cell_type": "markdown",
   "metadata": {},
   "source": [
    "### 1. Unconstraint Problem of ppt  "
   ]
  },
  {
   "cell_type": "code",
   "execution_count": 33,
   "metadata": {},
   "outputs": [
    {
     "name": "stdout",
     "output_type": "stream",
     "text": [
      "half_mat\n",
      "[[-1 10 12 15  7]\n",
      " [-1 -1  5 12 11]\n",
      " [-1 -1 -1  7  9]\n",
      " [-1 -1 -1 -1 10]\n",
      " [-1 -1 -1 -1 -1]]\n",
      "\n",
      "t_mat\n",
      "[[0 2 2 2 2]\n",
      " [0 0 0 0 0]\n",
      " [0 0 0 0 0]\n",
      " [0 0 0 0 0]\n",
      " [0 0 0 0 0]]\n",
      "\n",
      "net_saving_mat\n",
      "[[-1 -1 -1 -1 -1]\n",
      " [-1 -1 17 13  6]\n",
      " [-1 -1 -1 20 10]\n",
      " [-1 -1 -1 -1 12]\n",
      " [-1 -1 -1 -1 -1]]\n",
      "\n",
      "routes\n",
      "[[0, 1, 0], [0, 2, 0], [0, 3, 0], [0, 4, 0]]\n",
      "\n",
      "loop start\n",
      "\n",
      "iteration:1\n",
      "False\n",
      "max_i: 2\n",
      "max_j: 3\n",
      "[[0, 1, 0], [0, 2, 3, 0], [0, 4, 0]]\n",
      "iteration:2\n",
      "False\n",
      "max_i: 1\n",
      "max_j: 2\n",
      "[[0, 1, 2, 3, 0], [0, 4, 0]]\n",
      "iteration:3\n",
      "False\n",
      "max_i: 3\n",
      "max_j: 4\n",
      "[[0, 1, 2, 3, 4, 0]]\n",
      "loop end\n"
     ]
    }
   ],
   "source": [
    "N = 5 # number of nodes  \n",
    "Q = 10 #각 vehicle capacity  \n",
    "is_constraint = False\n",
    "half_mat, t_mat, demand, is_constraint = initialize(N, is_constraint)   \n",
    "print(\"half_mat\")\n",
    "print(half_mat)\n",
    "print()\n",
    "print(\"t_mat\")\n",
    "print(t_mat)\n",
    "print()\n",
    "net_saving_mat = calculate_net_saving(half_mat, N)\n",
    "print(\"net_saving_mat\")\n",
    "print(net_saving_mat) \n",
    "print()\n",
    "adjacency = make_adjacency_mat(t_mat)\n",
    "routes = search_all_route(adjacency)\n",
    "print(\"routes\")\n",
    "print(routes)\n",
    "print()\n",
    "\n",
    "\n",
    "\n",
    "###################\n",
    "print(\"loop start\") \n",
    "print()\n",
    "count = 0\n",
    "while(True):\n",
    "    count += 1  \n",
    "    print(\"iteration:{}\".format(count))\n",
    "    t_mat, adjacency, net_saving_mat, cells= max_net_saving(half_mat, t_mat, net_saving_mat, demand, is_constraint,  Q)\n",
    "    #print(cells)\n",
    "    #print(net_saving_mat)\n",
    "    routes = search_all_route(adjacency)  \n",
    "    print(routes)\n",
    "    \n",
    "    if len(cells) == 0 or len(routes) == 1:\n",
    "        print(\"loop end\")\n",
    "        break \n",
    "        "
   ]
  },
  {
   "cell_type": "markdown",
   "metadata": {},
   "source": [
    "### 2. Constraint Problem of ppt "
   ]
  },
  {
   "cell_type": "code",
   "execution_count": 35,
   "metadata": {},
   "outputs": [
    {
     "name": "stdout",
     "output_type": "stream",
     "text": [
      "half_mat\n",
      "[[-1 10 12 15  7]\n",
      " [-1 -1  5 12 11]\n",
      " [-1 -1 -1  7  9]\n",
      " [-1 -1 -1 -1 10]\n",
      " [-1 -1 -1 -1 -1]]\n",
      "\n",
      "t_mat\n",
      "[[0 2 2 2 2]\n",
      " [0 0 0 0 0]\n",
      " [0 0 0 0 0]\n",
      " [0 0 0 0 0]\n",
      " [0 0 0 0 0]]\n",
      "\n",
      "net_saving_mat\n",
      "[[-1 -1 -1 -1 -1]\n",
      " [-1 -1 17 13  6]\n",
      " [-1 -1 -1 20 10]\n",
      " [-1 -1 -1 -1 12]\n",
      " [-1 -1 -1 -1 -1]]\n",
      "\n",
      "routes\n",
      "[[0, 1, 0], [0, 2, 0], [0, 3, 0], [0, 4, 0]]\n",
      "\n",
      "loop start\n",
      "\n",
      "iteration:1\n",
      "True\n",
      "max_i: 2\n",
      "max_j: 3\n",
      "routes\n",
      "[[0, 1, 0], [0, 2, 3, 0], [0, 4, 0]]\n",
      "\n",
      "iteration:2\n",
      "True\n",
      "max_i: 3\n",
      "max_j: 4\n",
      "routes\n",
      "[[0, 1, 0], [0, 2, 3, 4, 0]]\n",
      "\n",
      "iteration:3\n",
      "True\n",
      "max_i: -1\n",
      "max_j: -1\n",
      "routes\n",
      "[[0, 1, 0], [0, 2, 3, 4, 0]]\n",
      "\n",
      "loop end\n"
     ]
    }
   ],
   "source": [
    "N = 5 # number of nodes  \n",
    "Q = 10 #각 vehicle capacity  \n",
    "is_constraint = True\n",
    "half_mat, t_mat, demand, is_constraint = initialize(N, is_constraint)   \n",
    "print(\"half_mat\")\n",
    "print(half_mat)\n",
    "print()\n",
    "print(\"t_mat\")\n",
    "print(t_mat)\n",
    "print()\n",
    "net_saving_mat = calculate_net_saving(half_mat, N)\n",
    "print(\"net_saving_mat\")\n",
    "print(net_saving_mat) \n",
    "print()\n",
    "adjacency = make_adjacency_mat(t_mat)\n",
    "routes = search_all_route(adjacency)\n",
    "print(\"routes\")\n",
    "print(routes)\n",
    "print()\n",
    "\n",
    "\n",
    "\n",
    "####################\n",
    "print(\"loop start\") \n",
    "print()\n",
    "count = 0\n",
    "while(True):\n",
    "    count += 1  \n",
    "    print(\"iteration:{}\".format(count))\n",
    "    t_mat, adjacency, net_saving_mat, cells= max_net_saving(half_mat, t_mat, net_saving_mat, demand, is_constraint,  Q)\n",
    "    #print(cells)\n",
    "    #print(net_saving_mat)\n",
    "    routes = search_all_route(adjacency)  \n",
    "    print(\"routes\")\n",
    "    print(routes)\n",
    "    print()\n",
    "    if len(cells) == 0 or len(routes) == 1:\n",
    "        print(\"loop end\")\n",
    "        break \n"
   ]
  },
  {
   "cell_type": "markdown",
   "metadata": {},
   "source": [
    "## Check search_all_route(adjacency) "
   ]
  },
  {
   "cell_type": "markdown",
   "metadata": {},
   "source": [
    "### Case 1  \n",
    "\n",
    "![](case1.png)"
   ]
  },
  {
   "cell_type": "code",
   "execution_count": 27,
   "metadata": {},
   "outputs": [
    {
     "name": "stdout",
     "output_type": "stream",
     "text": [
      "[[0, 1, 4, 3, 2, 0]]\n"
     ]
    }
   ],
   "source": [
    "#case1 - single route \n",
    "adjacency = np.array([[0,1,1,0,0],[1,0,0,0,1],[1,0,0,1,0],[0,0,1,0,1],[0,1,0,1,0]])\n",
    "routes = search_all_route(adjacency) \n",
    "print(routes) "
   ]
  },
  {
   "cell_type": "markdown",
   "metadata": {},
   "source": [
    "### Case 2  \n",
    "![](case2.png)  "
   ]
  },
  {
   "cell_type": "code",
   "execution_count": 28,
   "metadata": {},
   "outputs": [
    {
     "name": "stdout",
     "output_type": "stream",
     "text": [
      "[[0, 1, 2, 4, 0], [0, 3, 0]]\n"
     ]
    }
   ],
   "source": [
    "#case2\n",
    "adjacency = np.array([[0,1,0,2,1],[1,0,1,0,0],[0,1,0,0,1],[2,0,1,0,1],[1,0,1,0,0]])\n",
    "routes = search_all_route(adjacency) \n",
    "print(routes) "
   ]
  },
  {
   "cell_type": "markdown",
   "metadata": {},
   "source": [
    "### Case 3   \n",
    "![](case3.png)  "
   ]
  },
  {
   "cell_type": "code",
   "execution_count": 29,
   "metadata": {},
   "outputs": [
    {
     "name": "stdout",
     "output_type": "stream",
     "text": [
      "[[0, 1, 0], [0, 2, 0], [0, 3, 0], [0, 4, 0]]\n"
     ]
    }
   ],
   "source": [
    "#case3\n",
    "adjacency = np.array([[0,2,2,2,2],[2,0,0,0,0],[2,0,0,0,0],[2,0,0,0,0],[2,0,0,0,0]])\n",
    "routes = search_all_route(adjacency)\n",
    "print(routes)"
   ]
  },
  {
   "cell_type": "markdown",
   "metadata": {},
   "source": [
    "### Case 4   \n",
    "![](case4.png)  "
   ]
  },
  {
   "cell_type": "code",
   "execution_count": 30,
   "metadata": {},
   "outputs": [
    {
     "name": "stdout",
     "output_type": "stream",
     "text": [
      "[[0, 1, 3, 2, 0], [0, 4, 0]]\n"
     ]
    }
   ],
   "source": [
    "#case4\n",
    "adjacency = np.array([[0,1,1,0,2],[1,0,0,1,0],[1,0,0,1,0],[0,1,1,0,0],[2,0,0,0,0]])\n",
    "routes = search_all_route(adjacency)\n",
    "print(routes)  "
   ]
  },
  {
   "cell_type": "markdown",
   "metadata": {},
   "source": [
    "### Case 5  \n",
    "![](case5.png)  "
   ]
  },
  {
   "cell_type": "code",
   "execution_count": 31,
   "metadata": {},
   "outputs": [
    {
     "name": "stdout",
     "output_type": "stream",
     "text": [
      "[[0, 3, 2, 1, 4, 0]]\n"
     ]
    }
   ],
   "source": [
    "#case5 - single route\n",
    "adjacency = np.array([[0,0,0,1,1],[0,0,1,0,1],[0,1,0,1,0],[1,0,1,0,0],[1,1,0,0,0]])\n",
    "routes = search_all_route(adjacency) \n",
    "print(routes)"
   ]
  },
  {
   "cell_type": "code",
   "execution_count": null,
   "metadata": {},
   "outputs": [],
   "source": []
  }
 ],
 "metadata": {
  "kernelspec": {
   "display_name": "Python 3",
   "language": "python",
   "name": "python3"
  },
  "language_info": {
   "codemirror_mode": {
    "name": "ipython",
    "version": 3
   },
   "file_extension": ".py",
   "mimetype": "text/x-python",
   "name": "python",
   "nbconvert_exporter": "python",
   "pygments_lexer": "ipython3",
   "version": "3.6.5"
  }
 },
 "nbformat": 4,
 "nbformat_minor": 2
}
