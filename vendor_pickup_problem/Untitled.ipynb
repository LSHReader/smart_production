{
 "cells": [
  {
   "cell_type": "code",
   "execution_count": 1,
   "metadata": {},
   "outputs": [],
   "source": [
    "from clarkewright import *  "
   ]
  },
  {
   "cell_type": "code",
   "execution_count": 2,
   "metadata": {},
   "outputs": [],
   "source": [
    "routes = [[0,1,0],[0,2,3,4,0]]"
   ]
  },
  {
   "cell_type": "code",
   "execution_count": 3,
   "metadata": {},
   "outputs": [],
   "source": [
    "half_mat = np.array([[-1,10,12,15,7],[-1,-1,5,12,11],[-1,-1,-1,7,9],[-1,-1,-1,-1,10],[-1,-1,-1,-1,-1]])"
   ]
  },
  {
   "cell_type": "code",
   "execution_count": 4,
   "metadata": {},
   "outputs": [
    {
     "name": "stdout",
     "output_type": "stream",
     "text": [
      "[[-1 10 12 15  7]\n",
      " [-1 -1  5 12 11]\n",
      " [-1 -1 -1  7  9]\n",
      " [-1 -1 -1 -1 10]\n",
      " [-1 -1 -1 -1 -1]]\n",
      "[[-2  9 11 14  6]\n",
      " [ 9 -2  4 11 10]\n",
      " [11  4 -2  6  8]\n",
      " [14 11  6 -2  9]\n",
      " [ 6 10  8  9 -2]]\n"
     ]
    }
   ],
   "source": [
    "total_mat = np.copy(half_mat)\n",
    "print(total_mat)\n",
    "total_mat = np.transpose(total_mat) + half_mat\n",
    "print(total_mat)"
   ]
  },
  {
   "cell_type": "code",
   "execution_count": 5,
   "metadata": {},
   "outputs": [
    {
     "name": "stdout",
     "output_type": "stream",
     "text": [
      "[[ 0 10 12 15  7]\n",
      " [ 0  0  5 12 11]\n",
      " [ 0  0  0  7  9]\n",
      " [ 0  0  0  0 10]\n",
      " [ 0  0  0  0  0]]\n",
      "[[ 0 10 12 15  7]\n",
      " [10  0  5 12 11]\n",
      " [12  5  0  7  9]\n",
      " [15 12  7  0 10]\n",
      " [ 7 11  9 10  0]]\n"
     ]
    }
   ],
   "source": [
    "total_cost = calculate_cost(routes, half_mat)"
   ]
  },
  {
   "cell_type": "code",
   "execution_count": 6,
   "metadata": {},
   "outputs": [
    {
     "name": "stdout",
     "output_type": "stream",
     "text": [
      "56\n"
     ]
    }
   ],
   "source": [
    "print(total_cost)  "
   ]
  },
  {
   "cell_type": "code",
   "execution_count": null,
   "metadata": {},
   "outputs": [],
   "source": []
  },
  {
   "cell_type": "code",
   "execution_count": null,
   "metadata": {},
   "outputs": [],
   "source": [
    "def calculate_cost(routes, half_mat):\n",
    "    #route에 따른 cost 리턴하기?  \n",
    "    \n",
    "    #half matrix를 전체 matrix로 확장(인접하게)\n",
    "    #각 노드들 간의 최단 거리 행렬 \n",
    "    changed_half_mat = np.copy(half_mat)\n",
    "    for i in range(len(changed_half_mat)):\n",
    "        for j in range(len(changed_half_mat)):\n",
    "            if changed_half_mat[i,j] == -1:\n",
    "                changed_half_mat[i,j] = 0\n",
    "    \n",
    "    print(changed_half_mat)\n",
    "    \n",
    "    total_mat = changed_half_mat + np.transpose(changed_half_mat) \n",
    "    print(total_mat)\n",
    "    #routes에 따라서 cost 계산\n",
    "    total_cost = 0\n",
    "    \n",
    "    for route_idx, route in enumerate(routes):\n",
    "        for i in range(len(route)-1):  \n",
    "            total_cost += total_mat[route[i],route[i+1]] \n",
    "    \n",
    "    return total_cost"
   ]
  }
 ],
 "metadata": {
  "kernelspec": {
   "display_name": "Python 3",
   "language": "python",
   "name": "python3"
  },
  "language_info": {
   "codemirror_mode": {
    "name": "ipython",
    "version": 3
   },
   "file_extension": ".py",
   "mimetype": "text/x-python",
   "name": "python",
   "nbconvert_exporter": "python",
   "pygments_lexer": "ipython3",
   "version": "3.6.5"
  }
 },
 "nbformat": 4,
 "nbformat_minor": 2
}
