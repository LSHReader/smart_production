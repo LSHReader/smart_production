{
 "cells": [
  {
   "cell_type": "code",
   "execution_count": 1,
   "metadata": {},
   "outputs": [],
   "source": [
    "import numpy as np\n",
    "from clarkewright import *     "
   ]
  },
  {
   "cell_type": "markdown",
   "metadata": {},
   "source": [
    "### Step 1 "
   ]
  },
  {
   "cell_type": "code",
   "execution_count": null,
   "metadata": {},
   "outputs": [],
   "source": [
    "#초기 거리 값  \n",
    "# full_mat is travel_time_matrix of from vendor to vendor \n",
    "f = [0,1.6,0.6,2,1.7,1.6,1.5],[1.6,0,1.9,3.5,0.7,1.3,3.1],[0.6,1.9,0,1.6,2.2,2.2,1.6],[2,3.5,1.6,0,3.7,3.6,1.4],[1.7,0.7,2.2,3.7,0,0.7,3.1],[1.6,1.3,2.2,3.6,0.7,0,2.7], [1.5,3.1,1.6,1.4,3.1,2.7,0]\n",
    "full_mat = np.array(f)\n",
    "print(full_mat)\n",
    "print(full_mat.shape)"
   ]
  },
  {
   "cell_type": "code",
   "execution_count": 3,
   "metadata": {},
   "outputs": [],
   "source": [
    "###Input 인수들  \n",
    "# number of vehicle = 1\n",
    "D = [1000,200,300,400,50,600,700] #Weekly demand of item i\n",
    "C = [10,60,30,400,4000,200,40] #Unit cost of item i\n",
    "Cr = 0.01 #Inventory holding cost (% of unit cost/week)\n",
    "Cp = [0,0,0,0,0,0,0] #Setup cost to pick up item i\n",
    "VVC = 12 #Variable vehicle cost ($/hour of travel time)\n",
    "P = [[1],[2],[3],[4],[5],[6,7]] #Set of all items to be picked up from vendor k"
   ]
  },
  {
   "cell_type": "markdown",
   "metadata": {},
   "source": [
    "### Step 2\n",
    "- set alpha to zero  \n",
    "- calculate dtmax(k), dtmin(k), nmax(k), nmin(k)  \n",
    "    - dtmax(k) = upper bound on the travel time of vendor k  \n",
    "               = full_mat(plant to vendor k) + full_mat(vendor k to plant)   \n",
    "    - dtmin(k) = lower bound on the travel time of vendor k    \n",
    "               = full_mat(closest vendor of k) + full_mat(next closest vendor of k)  \n",
    "    - n(k) = minimum-cost number of pickups of vendor k (== # of orders)  \n",
    "    - nmin(k) = lower bound of number of pickups of vendor k  \n",
    "    - nmax(k) = upper bound of number of pickups of vendor k   "
   ]
  },
  {
   "cell_type": "code",
   "execution_count": 4,
   "metadata": {},
   "outputs": [],
   "source": [
    "# 두 번째로 작은 값 출력 함수\n",
    "def second_smallest(numbers):\n",
    "    m1, m2 = 10000,10000\n",
    "    for x in numbers:\n",
    "        if x <= m1:\n",
    "            m1, m2 = x, m1\n",
    "        elif x < m2:\n",
    "            m2 = x  \n",
    "    return m2"
   ]
  },
  {
   "cell_type": "code",
   "execution_count": 5,
   "metadata": {},
   "outputs": [],
   "source": [
    "# 세 번째로 작은 값 출력 함수\n",
    "def third_smallest(numbers):\n",
    "    m1, m2, m3 = 10000,10000, 10000\n",
    "    for x in numbers:\n",
    "        if x <= m1:\n",
    "            m1, m2, m3 = x, m1, m2\n",
    "        elif x < m2:\n",
    "            m2, m3 = x, m2\n",
    "        elif x < m3:\n",
    "            m3 = x\n",
    "    return m3"
   ]
  },
  {
   "cell_type": "code",
   "execution_count": 6,
   "metadata": {},
   "outputs": [],
   "source": [
    "#dt_min값 / dt_max 계산 함수_second_smallest / third_smallest 함수 사용\n",
    "def cal_dtmin_dtmax(n, full_mat):\n",
    "   \n",
    "    full_mat2 = np.copy(full_mat[1:,1:])\n",
    "    full_mat3 = np.copy(full_mat[1:,:])\n",
    "\n",
    "    dt_min, dt_max, dtmin1, dtmin2, dtmin, dtmax = [],[],[],[],[],[]  \n",
    "    \n",
    "    for k in range(n-1):\n",
    "        dtmin.append(10000)\n",
    "        dtmin[k] = second_smallest(full_mat2[k]) + third_smallest(full_mat2[k])        \n",
    "        dt_min.append(dtmin[k])\n",
    "        \n",
    "    for i in range(n-1):\n",
    "        dtmax.append(0)\n",
    "        dtmax[i] += full_mat3[i][0] * 2\n",
    "        if dtmax[i] < dtmin[i]:\n",
    "            dtmax[i] = dtmin[i]\n",
    "        dt_max.append(dtmax[i])\n",
    "    \n",
    "    return dt_min, dt_max"
   ]
  },
  {
   "cell_type": "code",
   "execution_count": 7,
   "metadata": {},
   "outputs": [
    {
     "name": "stdout",
     "output_type": "stream",
     "text": [
      "[2.0, 3.2, 3.0, 1.4, 2.0, 3.0]\n",
      "[3.2, 3.2, 4.0, 3.4, 3.2, 3.0]\n"
     ]
    }
   ],
   "source": [
    "#dt_min, dt_max 구하기\n",
    "dt_min, dt_max = cal_dtmin_dtmax(len(full_mat))\n",
    "print(dt_min)\n",
    "print(dt_max)"
   ]
  },
  {
   "cell_type": "code",
   "execution_count": 8,
   "metadata": {},
   "outputs": [],
   "source": [
    "#n_min, n_max 계산 함수\n",
    "def cal_nmax_nmin():\n",
    "    n_max,n_min = [], []\n",
    "    for k in range(len(P)):\n",
    "        sum1 = 0\n",
    "        sum2 = 0\n",
    "        for i in P[k]:  \n",
    "            sum1 += D[i-1]*C[i-1]\n",
    "            sum2 += Cp[i-1]\n",
    "        a = (Cr*sum1)/(2*(sum2+VVC*dt_min[k]))\n",
    "        b = (Cr*sum1)/(2*(sum2+VVC*dt_max[k]))\n",
    "        n_max.append(round(a**0.5,2))\n",
    "        n_min.append(round(b**0.5,2))\n",
    "    return n_max,n_min"
   ]
  },
  {
   "cell_type": "code",
   "execution_count": 9,
   "metadata": {},
   "outputs": [
    {
     "name": "stdout",
     "output_type": "stream",
     "text": [
      "[1.44, 1.25, 1.12, 6.9, 6.45, 4.53] [1.14, 1.25, 0.97, 4.43, 5.1, 4.53]\n"
     ]
    }
   ],
   "source": [
    "# n_max, n_min값 구하기\n",
    "n_max,n_min = cal_nmax_nmin()\n",
    "print(n_max,n_min)  "
   ]
  },
  {
   "cell_type": "markdown",
   "metadata": {},
   "source": [
    "### Step 3    \n",
    "- n(k) = nmin(k) + alpha*(nmax(k) - nmnin(k))   "
   ]
  },
  {
   "cell_type": "code",
   "execution_count": 10,
   "metadata": {},
   "outputs": [],
   "source": [
    "# n(k) 계산 함수\n",
    "def cal_nk(alp, P, n_max, n_min): #n_min이랑 n_max 위에서 받아온 전역변수로 된것같은데,, 이렇게 하면 나중에 문제 생길 수도 있음  \n",
    "    #print(n_min) \n",
    "    #print(n_max)\n",
    "    \n",
    "    n = []\n",
    "    alpha = alp\n",
    "    for k in range(len(P)):  \n",
    "        n.append(n_min[k] + alp*(n_max[k]-n_min[k]))\n",
    "        \n",
    "    return n"
   ]
  },
  {
   "cell_type": "code",
   "execution_count": 11,
   "metadata": {},
   "outputs": [
    {
     "name": "stdout",
     "output_type": "stream",
     "text": [
      "[1.14, 1.25, 0.97, 4.43, 5.1, 4.53]\n",
      "[1.44, 1.25, 1.12, 6.9, 6.45, 4.53]\n"
     ]
    }
   ],
   "source": [
    "#alpha=0, alpha=1일 때 n(k)값\n",
    "nk_0 = cal_nk(0, n_max, n_min)  \n",
    "nk_1 = cal_nk(1, n_max, n_min)\n",
    "print(nk_0)\n",
    "print(nk_1)"
   ]
  },
  {
   "cell_type": "markdown",
   "metadata": {},
   "source": [
    "### Step 4  "
   ]
  },
  {
   "cell_type": "code",
   "execution_count": 12,
   "metadata": {},
   "outputs": [],
   "source": [
    "#STEP4 n(k)값에 따른 요일 분배\n",
    "\n",
    "def create_schedule(alp, n_max, n_min):\n",
    "    nk = cal_nk(alp, P, n_max, n_min)    \n",
    "    \n",
    "    Mon, Tue, Wed, Thu, Fri = [],[],[],[],[]\n",
    "    for k in range(len(nk)):\n",
    "        nk[k] = round(nk[k],0)\n",
    "        if nk[k] >= 5:\n",
    "            Mon.append(k+1)\n",
    "            Tue.append(k+1)\n",
    "            Wed.append(k+1)\n",
    "            Thu.append(k+1)\n",
    "            Fri.append(k+1)\n",
    "        elif nk[k] == 4:\n",
    "            Mon.append(k+1)\n",
    "            Tue.append(k+1)\n",
    "            Thu.append(k+1)\n",
    "            Fri.append(k+1)\n",
    "        elif nk[k] == 3:\n",
    "            Mon.append(k+1)\n",
    "            Wed.append(k+1)\n",
    "            Fri.append(k+1)\n",
    "        elif nk[k] == 2:\n",
    "            Tue.append(k+1)\n",
    "            Thu.append(k+1) \n",
    "        elif nk[k] == 1:\n",
    "            Wed.append(k+1)\n",
    "            \n",
    "    return nk, Mon, Tue, Wed, Thu, Fri"
   ]
  },
  {
   "cell_type": "code",
   "execution_count": 13,
   "metadata": {},
   "outputs": [
    {
     "name": "stdout",
     "output_type": "stream",
     "text": [
      "[1.0, 1.0, 1.0, 4.0, 5.0, 5.0]\n",
      "[4, 5, 6]\n",
      "[4, 5, 6]\n",
      "[1, 2, 3, 5, 6]\n",
      "[4, 5, 6]\n",
      "[4, 5, 6]\n"
     ]
    }
   ],
   "source": [
    "#alpha = 0 일 때의 요일별 vendor 방문 스케쥴\n",
    "alp = 0  \n",
    "nk, Mon, Tue, Wed, Thu, Fri = create_schedule(alp, n_max, n_min)   \n",
    "print(nk)  \n",
    "print(Mon)\n",
    "print(Tue)\n",
    "print(Wed)  \n",
    "print(Thu)  \n",
    "print(Fri)"
   ]
  },
  {
   "cell_type": "markdown",
   "metadata": {},
   "source": [
    "### Step 5"
   ]
  },
  {
   "cell_type": "code",
   "execution_count": 14,
   "metadata": {},
   "outputs": [],
   "source": [
    "def to_half_mat_by_day(full_mat, day):    \n",
    "    #요일별로 full matrix 잘라서 half_matrix 형태로 바꿔주기  \n",
    "    # ex) half_mat = np.array([[-1,10,12,15,7],[-1,-1,5,12,11],[-1,-1,-1,7,9],[-1,-1,-1,-1,10],[-1,-1,-1,-1,-1]])\n",
    "    \n",
    "   \n",
    "    #cut by indices\n",
    "    indices = day\n",
    "    indices.insert(0,0)\n",
    "    indices = np.array(indices)\n",
    "    print(indices)\n",
    "    tmp_mat = np.copy(full_mat[indices]) #cut row\n",
    "    tmp_mat = np.copy(tmp_mat[:,indices]) #cut column\n",
    "    \n",
    "    #change to half matrix \n",
    "    half_mat = np.triu(tmp_mat)\n",
    "    #print(half_mat)     \n",
    "    for i in range(len(half_mat)):\n",
    "        for j in range(len(half_mat)):\n",
    "            if half_mat[i,j] == 0: #tmp_mat의 upper diagonal이 모두 0이 아닐 경우에만 이게 맞는 코딩임  \n",
    "                half_mat[i,j] = -1\n",
    "    #print(half_mat)\n",
    "\n",
    "    \n",
    "    return half_mat"
   ]
  },
  {
   "cell_type": "code",
   "execution_count": 15,
   "metadata": {},
   "outputs": [
    {
     "name": "stdout",
     "output_type": "stream",
     "text": [
      "[4, 5, 6]\n",
      "[0 4 5 6]\n",
      "[[-1.   1.7  1.6  1.5]\n",
      " [-1.  -1.   0.7  3.1]\n",
      " [-1.  -1.  -1.   2.7]\n",
      " [-1.  -1.  -1.  -1. ]]\n"
     ]
    }
   ],
   "source": [
    "#STEP5_CW돌려서 schedule에 따른 총비용 구해주기\n",
    "# 요일별로 CW 돌려야 함\n",
    "# full matrix에서 step 4에서 나온 요일별 스케줄 이용해서 자른 다음에 half_mat으로 바꿔서 넣어줘야함   \n",
    "\n",
    "#monday   \n",
    "#Mon의 앞이랑 뒤에 0 또 붙여줘야함!!    \n",
    "print(Mon)\n",
    "half_mat_Mon = to_half_mat_by_day(full_mat, Mon)   \n",
    "print(half_mat_Mon)  "
   ]
  },
  {
   "cell_type": "code",
   "execution_count": 16,
   "metadata": {},
   "outputs": [
    {
     "name": "stdout",
     "output_type": "stream",
     "text": [
      "4\n",
      "[[0 2 2 2]\n",
      " [0 0 0 0]\n",
      " [0 0 0 0]\n",
      " [0 0 0 0]]\n"
     ]
    }
   ],
   "source": [
    "print(len(half_mat_Mon))\n",
    "_, t_mat, demand, is_constraint = initialize(len(half_mat_Mon), False)  \n",
    "print(t_mat)\n",
    "\n",
    "#t_mat, adjacency, net_saving_mat, cells= max_net_saving(half_mat_Mon, t_mat, net_saving_mat, demand, is_constraint,  0)     \n"
   ]
  },
  {
   "cell_type": "code",
   "execution_count": 17,
   "metadata": {},
   "outputs": [
    {
     "name": "stdout",
     "output_type": "stream",
     "text": [
      "[[-1.  -1.  -1.  -1. ]\n",
      " [-1.  -1.   2.6  0.1]\n",
      " [-1.  -1.  -1.   0.4]\n",
      " [-1.  -1.  -1.  -1. ]]\n"
     ]
    }
   ],
   "source": [
    "net_saving_mat = calculate_net_saving(half_mat_Mon, len(half_mat_Mon))\n",
    "print(net_saving_mat)   "
   ]
  },
  {
   "cell_type": "code",
   "execution_count": 18,
   "metadata": {},
   "outputs": [
    {
     "name": "stdout",
     "output_type": "stream",
     "text": [
      "max_i: 1\n",
      "max_j: 2\n"
     ]
    }
   ],
   "source": [
    "t_mat, adjacency, net_saving_mat, cells= max_net_saving(half_mat_Mon, t_mat, net_saving_mat, demand, is_constraint,  12345)"
   ]
  },
  {
   "cell_type": "code",
   "execution_count": 19,
   "metadata": {},
   "outputs": [
    {
     "name": "stdout",
     "output_type": "stream",
     "text": [
      "[[0 1 1 2]\n",
      " [1 0 1 0]\n",
      " [1 1 0 0]\n",
      " [2 0 0 0]]\n",
      "[[-1.  -1.  -1.  -1. ]\n",
      " [-1.  -1.  -1.   0.1]\n",
      " [-1.  -1.  -1.   0.4]\n",
      " [-1.  -1.  -1.  -1. ]]\n"
     ]
    }
   ],
   "source": [
    "print(adjacency)\n",
    "print(net_saving_mat)"
   ]
  },
  {
   "cell_type": "code",
   "execution_count": 20,
   "metadata": {},
   "outputs": [
    {
     "name": "stdout",
     "output_type": "stream",
     "text": [
      "[[0, 1, 2, 0], [0, 3, 0]]\n"
     ]
    }
   ],
   "source": [
    "routes = search_all_route(adjacency)\n",
    "print(routes)"
   ]
  },
  {
   "cell_type": "code",
   "execution_count": 21,
   "metadata": {},
   "outputs": [
    {
     "name": "stdout",
     "output_type": "stream",
     "text": [
      "max_i: 2\n",
      "max_j: 3\n",
      "[[0, 1, 2, 3, 0]]\n"
     ]
    }
   ],
   "source": [
    "t_mat, adjacency, net_saving_mat, cells= max_net_saving(half_mat_Mon, t_mat, net_saving_mat, demand, is_constraint,  12345)\n",
    "routes = search_all_route(adjacency)\n",
    "print(routes)  "
   ]
  },
  {
   "cell_type": "code",
   "execution_count": 22,
   "metadata": {},
   "outputs": [
    {
     "name": "stdout",
     "output_type": "stream",
     "text": [
      "max_i: -1\n",
      "max_j: -1\n",
      "[[0, 1, 2, 3, 0]]\n"
     ]
    }
   ],
   "source": [
    "t_mat, adjacency, net_saving_mat, cells= max_net_saving(half_mat_Mon, t_mat, net_saving_mat, demand, is_constraint,  12345)\n",
    "routes = search_all_route(adjacency)\n",
    "print(routes)"
   ]
  },
  {
   "cell_type": "code",
   "execution_count": 23,
   "metadata": {},
   "outputs": [
    {
     "name": "stdout",
     "output_type": "stream",
     "text": [
      "[[0.  1.7 1.6 1.5]\n",
      " [0.  0.  0.7 3.1]\n",
      " [0.  0.  0.  2.7]\n",
      " [0.  0.  0.  0. ]]\n",
      "[[0.  1.7 1.6 1.5]\n",
      " [1.7 0.  0.7 3.1]\n",
      " [1.6 0.7 0.  2.7]\n",
      " [1.5 3.1 2.7 0. ]]\n",
      "6.6\n"
     ]
    }
   ],
   "source": [
    "total_cost = calculate_cost(routes, half_mat_Mon)\n",
    "print(total_cost)  "
   ]
  },
  {
   "cell_type": "markdown",
   "metadata": {},
   "source": [
    "### Step 7 & 8   "
   ]
  },
  {
   "cell_type": "code",
   "execution_count": 25,
   "metadata": {},
   "outputs": [
    {
     "ename": "NameError",
     "evalue": "name 'travel_cost' is not defined",
     "output_type": "error",
     "traceback": [
      "\u001b[1;31m---------------------------------------------------------------------------\u001b[0m",
      "\u001b[1;31mNameError\u001b[0m                                 Traceback (most recent call last)",
      "\u001b[1;32m<ipython-input-25-5cd1d74a43fa>\u001b[0m in \u001b[0;36m<module>\u001b[1;34m()\u001b[0m\n\u001b[0;32m      5\u001b[0m \u001b[1;32mfor\u001b[0m \u001b[0malpha\u001b[0m \u001b[1;32min\u001b[0m \u001b[0mrange\u001b[0m\u001b[1;33m(\u001b[0m\u001b[1;36m11\u001b[0m\u001b[1;33m)\u001b[0m\u001b[1;33m:\u001b[0m\u001b[1;33m\u001b[0m\u001b[0m\n\u001b[0;32m      6\u001b[0m     \u001b[0mcreate_schedule\u001b[0m\u001b[1;33m(\u001b[0m\u001b[0malpha\u001b[0m\u001b[1;33m/\u001b[0m\u001b[1;36m10\u001b[0m\u001b[1;33m,\u001b[0m \u001b[0mn_max\u001b[0m\u001b[1;33m,\u001b[0m \u001b[0mn_min\u001b[0m\u001b[1;33m)\u001b[0m\u001b[1;33m\u001b[0m\u001b[0m\n\u001b[1;32m----> 7\u001b[1;33m     \u001b[1;32mif\u001b[0m \u001b[0mtravel_cost\u001b[0m \u001b[1;33m<\u001b[0m \u001b[0mmincost\u001b[0m\u001b[1;33m:\u001b[0m\u001b[1;33m\u001b[0m\u001b[0m\n\u001b[0m\u001b[0;32m      8\u001b[0m         \u001b[0mmincost\u001b[0m \u001b[1;33m=\u001b[0m \u001b[0mtravel_cost\u001b[0m\u001b[1;33m\u001b[0m\u001b[0m\n\u001b[0;32m      9\u001b[0m         \u001b[0mbest_schedule\u001b[0m \u001b[1;33m=\u001b[0m \u001b[0mcreate_scedule\u001b[0m\u001b[1;33m(\u001b[0m\u001b[0malpha\u001b[0m\u001b[1;33m/\u001b[0m\u001b[1;36m10\u001b[0m\u001b[1;33m)\u001b[0m\u001b[1;33m\u001b[0m\u001b[0m\n",
      "\u001b[1;31mNameError\u001b[0m: name 'travel_cost' is not defined"
     ]
    }
   ],
   "source": [
    "#STEP7&8 alpha가 0에서 1까지 0.1씩 증가하는 경우\n",
    "\n",
    "mincost = 10000\n",
    "best_schedule = 0\n",
    "for alpha in range(11):\n",
    "    create_schedule(alpha/10, n_max, n_min)\n",
    "    if travel_cost < mincost:  \n",
    "        mincost = travel_cost\n",
    "        best_schedule = create_scedule(alpha/10)   \n",
    "        \n",
    "return best_schedule, mincost   "
   ]
  },
  {
   "cell_type": "code",
   "execution_count": 26,
   "metadata": {},
   "outputs": [
    {
     "ename": "TypeError",
     "evalue": "create_schedule() missing 2 required positional arguments: 'n_max' and 'n_min'",
     "output_type": "error",
     "traceback": [
      "\u001b[1;31m---------------------------------------------------------------------------\u001b[0m",
      "\u001b[1;31mTypeError\u001b[0m                                 Traceback (most recent call last)",
      "\u001b[1;32m<ipython-input-26-6b34bf285cc0>\u001b[0m in \u001b[0;36m<module>\u001b[1;34m()\u001b[0m\n\u001b[0;32m      1\u001b[0m \u001b[1;33m\u001b[0m\u001b[0m\n\u001b[1;32m----> 2\u001b[1;33m \u001b[0mbest_schedule\u001b[0m \u001b[1;33m=\u001b[0m \u001b[0mcreate_schedule\u001b[0m\u001b[1;33m(\u001b[0m\u001b[1;36m0\u001b[0m\u001b[1;33m)\u001b[0m\u001b[1;33m\u001b[0m\u001b[0m\n\u001b[0m\u001b[0;32m      3\u001b[0m \u001b[0mbest_schedule\u001b[0m\u001b[1;33m\u001b[0m\u001b[0m\n",
      "\u001b[1;31mTypeError\u001b[0m: create_schedule() missing 2 required positional arguments: 'n_max' and 'n_min'"
     ]
    }
   ],
   "source": [
    "\n",
    "best_schedule = create_schedule(0)\n",
    "best_schedule"
   ]
  }
 ],
 "metadata": {
  "kernelspec": {
   "display_name": "Python 3",
   "language": "python",
   "name": "python3"
  },
  "language_info": {
   "codemirror_mode": {
    "name": "ipython",
    "version": 3
   },
   "file_extension": ".py",
   "mimetype": "text/x-python",
   "name": "python",
   "nbconvert_exporter": "python",
   "pygments_lexer": "ipython3",
   "version": "3.6.5"
  }
 },
 "nbformat": 4,
 "nbformat_minor": 2
}
