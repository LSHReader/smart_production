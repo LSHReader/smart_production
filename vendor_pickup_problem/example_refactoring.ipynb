{
 "cells": [
  {
   "cell_type": "markdown",
   "metadata": {},
   "source": [
    "__test for step 6__  "
   ]
  },
  {
   "cell_type": "code",
   "execution_count": 2,
   "metadata": {},
   "outputs": [],
   "source": [
    "import numpy as np\n",
    "from clarkewright import *  \n",
    "from vendorpickup import *\n",
    "from itertools import permutations    "
   ]
  },
  {
   "cell_type": "code",
   "execution_count": 5,
   "metadata": {},
   "outputs": [
    {
     "name": "stdout",
     "output_type": "stream",
     "text": [
      "[[0.  1.6 0.6 2.  1.7 1.6 1.5]\n",
      " [1.6 0.  1.9 3.5 0.7 1.3 3.1]\n",
      " [0.6 1.9 0.  1.6 2.2 2.2 1.6]\n",
      " [2.  3.5 1.6 0.  3.7 3.6 1.4]\n",
      " [1.7 0.7 2.2 3.7 0.  0.7 3.1]\n",
      " [1.6 1.3 2.2 3.6 0.7 0.  2.7]\n",
      " [1.5 3.1 1.6 1.4 3.1 2.7 0. ]]\n",
      "(7, 7)\n"
     ]
    }
   ],
   "source": [
    "#초기 거리 값  \n",
    "# full_mat is travel_time_matrix of from vendor to vendor \n",
    "f = [0,1.6,0.6,2,1.7,1.6,1.5],[1.6,0,1.9,3.5,0.7,1.3,3.1],[0.6,1.9,0,1.6,2.2,2.2,1.6],[2,3.5,1.6,0,3.7,3.6,1.4],[1.7,0.7,2.2,3.7,0,0.7,3.1],[1.6,1.3,2.2,3.6,0.7,0,2.7], [1.5,3.1,1.6,1.4,3.1,2.7,0]\n",
    "full_mat = np.array(f)\n",
    "print(full_mat)\n",
    "print(full_mat.shape)   \n",
    "###Input 인수들  \n",
    "# number of vehicle = 1\n",
    "D = [1000,200,300,400,50,600,700] #Weekly demand of item i\n",
    "C = [10,60,30,400,4000,200,40] #Unit cost of item i\n",
    "Cr = 0.01 #Inventory holding cost (% of unit cost/week)\n",
    "Cp = [0,0,0,0,0,0,0] #Setup cost to pick up item i\n",
    "VVC = 12 #Variable vehicle cost ($/hour of travel time)\n",
    "P = [[1],[2],[3],[4],[5],[6,7]] #Set of all items to be picked up from vendor k"
   ]
  },
  {
   "cell_type": "code",
   "execution_count": 8,
   "metadata": {},
   "outputs": [
    {
     "name": "stdout",
     "output_type": "stream",
     "text": [
      "[2.0, 3.2, 3.0, 1.4, 2.0, 3.0]\n",
      "[3.2, 3.2, 4.0, 3.4, 3.2, 3.0]\n",
      "[1.44, 1.25, 1.12, 6.9, 6.45, 4.53] [1.14, 1.25, 0.97, 4.43, 5.1, 4.53]\n"
     ]
    }
   ],
   "source": [
    "#dt_min, dt_max 구하기\n",
    "dt_min, dt_max = cal_dtmin_dtmax(len(full_mat), full_mat)\n",
    "print(dt_min) \n",
    "print(dt_max)\n",
    "# n_max, n_min값 구하기\n",
    "n_max,n_min = cal_nmax_nmin(D, C, Cr, Cp, VVC, P, dt_min, dt_max)\n",
    "print(n_max,n_min)  "
   ]
  },
  {
   "cell_type": "code",
   "execution_count": 15,
   "metadata": {},
   "outputs": [
    {
     "name": "stdout",
     "output_type": "stream",
     "text": [
      "35.6\n",
      "[[[0, 4, 5, 6, 0]], [[0, 4, 5, 6, 0]], [[0, 1, 5, 6, 3, 2, 0]], [[0, 4, 5, 6, 0]], [[0, 4, 5, 6, 0]]]\n"
     ]
    }
   ],
   "source": [
    "nk, Mon, Tue, Wed, Thu, Fri = create_schedule(0, P, n_max, n_min)\n",
    "travel_cost, schedules = calculate_total_week_cost(Mon, Tue, Wed, Thu, Fri, full_mat)\n",
    "print(travel_cost)\n",
    "print(schedules)"
   ]
  },
  {
   "cell_type": "markdown",
   "metadata": {},
   "source": [
    "__Functions needed__  "
   ]
  },
  {
   "cell_type": "code",
   "execution_count": 11,
   "metadata": {},
   "outputs": [],
   "source": [
    "# 모든 경우의 수를 뽑기 위한 모듈 import\n",
    "from itertools import permutations\n",
    "\n",
    "# 가능한 모든 경로를 추출하는 함수 (방문 노드는 고정, 여러 개의 루트가 나왔을 때도 사용 가능)\n",
    "def get_everycase(routes):\n",
    "    everycase = []\n",
    "    for i in range(len(routes)):\n",
    "        a = routes[i][1:-1]\n",
    "        b = list(permutations(a,len(a)))\n",
    "        e, routes_cases,routes_everycase = [], [], []\n",
    "        \n",
    "        for j in range(len(b)):        \n",
    "            e.append(list(b[j]))\n",
    "            routes_cases.append([0] + e[j] + [0])\n",
    "            \n",
    "        if len(routes) == 1:\n",
    "            routes_everycase = routes_cases\n",
    "            return routes_everycase\n",
    "            break\n",
    "            \n",
    "        if len(everycase) == 0:\n",
    "            for k in range(len(routes_cases)):\n",
    "                d = []\n",
    "                d.append(routes_cases[k])\n",
    "                everycase.append(d)\n",
    "                \n",
    "        elif len(routes) == 2: \n",
    "            for k in range(len(everycase)):\n",
    "                for l in range(len(routes_cases)):\n",
    "                    everycase[k].append(routes_cases[l])\n",
    "                    d3 = deepcopy(everycase)\n",
    "                    routes_everycase.append(d3[k])\n",
    "                    everycase[k].pop()\n",
    "        else:\n",
    "            m = 2\n",
    "            while(m < len(routes)):\n",
    "                for k in range(len(everycase)):\n",
    "                    for l in range(len(routes_cases)):\n",
    "                        everycase[k].append(routes_cases[l])\n",
    "                        d3 = deepcopy(everycase)\n",
    "                        routes_everycase.append(d3[k])\n",
    "                        everycase[k].pop()\n",
    "                d4 = deepcopy(routes_everycase)\n",
    "                everycase = d4 \n",
    "                m += 1\n",
    "                break\n",
    "                \n",
    "    return routes_everycase"
   ]
  },
  {
   "cell_type": "code",
   "execution_count": 12,
   "metadata": {},
   "outputs": [],
   "source": [
    "#요일별 모든 exchange 경로(index값)과 half_mat_day를 받았을 때, 최적 경로와 비용 계산 \n",
    "def calculate_bestcost(routes_everycase, half_mat_day):\n",
    "    #route에 따른 cost 리턴하기?  \n",
    "    \n",
    "    #half matrix를 전체 matrix로 확장(인접하게)\n",
    "    #각 노드들 간의 최단 거리 행렬 \n",
    "    changed_half_mat = np.copy(half_mat_day)\n",
    "    for i in range(len(changed_half_mat)):\n",
    "        for j in range(len(changed_half_mat)):\n",
    "            if changed_half_mat[i,j] == -1:\n",
    "                changed_half_mat[i,j] = 0\n",
    "    \n",
    "    #print(changed_half_mat)\n",
    "    \n",
    "    total_mat = changed_half_mat + np.transpose(changed_half_mat) \n",
    "    #print(total_mat)\n",
    "    #routes에 따라서 cost 계산\n",
    "    total_cost = 0\n",
    "    best_cost = 10000\n",
    "    \n",
    "    for route_idx, route in enumerate(routes_everycase):\n",
    "        print(route)\n",
    "        for i in range(len(route)-1):  \n",
    "            total_cost += total_mat[route[i],route[i+1]]\n",
    "        total_cost = round(total_cost,10)\n",
    "        print(f'{routes_everycase[route_idx]}일 때 비용 {total_cost}')\n",
    "        if best_cost > total_cost :\n",
    "            best_cost = total_cost\n",
    "            best_route = routes_everycase[route_idx]\n",
    "        total_cost = 0\n",
    "    print(f' 최적 경로는 : {best_route}. 이 때의 비용은 : {best_cost}')     \n",
    "    return best_cost, best_route"
   ]
  },
  {
   "cell_type": "code",
   "execution_count": 25,
   "metadata": {},
   "outputs": [
    {
     "name": "stdout",
     "output_type": "stream",
     "text": [
      "[[[0, 4, 5, 6, 0]], [[0, 4, 5, 6, 0]], [[0, 1, 5, 6, 3, 2, 0]], [[0, 4, 5, 6, 0]], [[0, 4, 5, 6, 0]]]\n",
      "[[0, 4, 5, 6, 0], [0, 4, 6, 5, 0], [0, 5, 4, 6, 0], [0, 5, 6, 4, 0], [0, 6, 4, 5, 0], [0, 6, 5, 4, 0]]\n"
     ]
    },
    {
     "ename": "IndexError",
     "evalue": "index 4 is out of bounds for axis 1 with size 4",
     "output_type": "error",
     "traceback": [
      "\u001b[1;31m---------------------------------------------------------------------------\u001b[0m",
      "\u001b[1;31mIndexError\u001b[0m                                Traceback (most recent call last)",
      "\u001b[1;32m<ipython-input-25-a97edee5c2f4>\u001b[0m in \u001b[0;36m<module>\u001b[1;34m()\u001b[0m\n\u001b[0;32m     18\u001b[0m     \u001b[1;31m#print(half_mat_day)\u001b[0m\u001b[1;33m\u001b[0m\u001b[1;33m\u001b[0m\u001b[0m\n\u001b[0;32m     19\u001b[0m     \u001b[1;31m#print(routes_everycase)\u001b[0m\u001b[1;33m\u001b[0m\u001b[1;33m\u001b[0m\u001b[0m\n\u001b[1;32m---> 20\u001b[1;33m     \u001b[0mbest_cost\u001b[0m\u001b[1;33m,\u001b[0m \u001b[0mbest_route\u001b[0m \u001b[1;33m=\u001b[0m \u001b[0mcalculate_bestcost\u001b[0m\u001b[1;33m(\u001b[0m\u001b[0mroutes_everycase\u001b[0m\u001b[1;33m,\u001b[0m \u001b[0mhalf_mat_day\u001b[0m\u001b[1;33m)\u001b[0m\u001b[1;33m\u001b[0m\u001b[0m\n\u001b[0m\u001b[0;32m     21\u001b[0m     \u001b[1;31m#print(best_route)\u001b[0m\u001b[1;33m\u001b[0m\u001b[1;33m\u001b[0m\u001b[0m\n\u001b[0;32m     22\u001b[0m     \u001b[0mlocal_optimal_schedule\u001b[0m\u001b[1;33m.\u001b[0m\u001b[0mappend\u001b[0m\u001b[1;33m(\u001b[0m\u001b[0mbest_route\u001b[0m\u001b[1;33m)\u001b[0m\u001b[1;33m\u001b[0m\u001b[0m\n",
      "\u001b[1;32m<ipython-input-12-d2552a95a1a3>\u001b[0m in \u001b[0;36mcalculate_bestcost\u001b[1;34m(routes_everycase, half_mat_day)\u001b[0m\n\u001b[0;32m     21\u001b[0m     \u001b[1;32mfor\u001b[0m \u001b[0mroute_idx\u001b[0m\u001b[1;33m,\u001b[0m \u001b[0mroute\u001b[0m \u001b[1;32min\u001b[0m \u001b[0menumerate\u001b[0m\u001b[1;33m(\u001b[0m\u001b[0mroutes_everycase\u001b[0m\u001b[1;33m)\u001b[0m\u001b[1;33m:\u001b[0m\u001b[1;33m\u001b[0m\u001b[0m\n\u001b[0;32m     22\u001b[0m         \u001b[1;32mfor\u001b[0m \u001b[0mi\u001b[0m \u001b[1;32min\u001b[0m \u001b[0mrange\u001b[0m\u001b[1;33m(\u001b[0m\u001b[0mlen\u001b[0m\u001b[1;33m(\u001b[0m\u001b[0mroute\u001b[0m\u001b[1;33m)\u001b[0m\u001b[1;33m-\u001b[0m\u001b[1;36m1\u001b[0m\u001b[1;33m)\u001b[0m\u001b[1;33m:\u001b[0m\u001b[1;33m\u001b[0m\u001b[0m\n\u001b[1;32m---> 23\u001b[1;33m             \u001b[0mtotal_cost\u001b[0m \u001b[1;33m+=\u001b[0m \u001b[0mtotal_mat\u001b[0m\u001b[1;33m[\u001b[0m\u001b[0mroute\u001b[0m\u001b[1;33m[\u001b[0m\u001b[0mi\u001b[0m\u001b[1;33m]\u001b[0m\u001b[1;33m,\u001b[0m\u001b[0mroute\u001b[0m\u001b[1;33m[\u001b[0m\u001b[0mi\u001b[0m\u001b[1;33m+\u001b[0m\u001b[1;36m1\u001b[0m\u001b[1;33m]\u001b[0m\u001b[1;33m]\u001b[0m\u001b[1;33m\u001b[0m\u001b[0m\n\u001b[0m\u001b[0;32m     24\u001b[0m         \u001b[0mtotal_cost\u001b[0m \u001b[1;33m=\u001b[0m \u001b[0mround\u001b[0m\u001b[1;33m(\u001b[0m\u001b[0mtotal_cost\u001b[0m\u001b[1;33m,\u001b[0m\u001b[1;36m10\u001b[0m\u001b[1;33m)\u001b[0m\u001b[1;33m\u001b[0m\u001b[0m\n\u001b[0;32m     25\u001b[0m         \u001b[0mprint\u001b[0m\u001b[1;33m(\u001b[0m\u001b[1;34mf'{routes_everycase[route_idx]}일 때 비용 {total_cost}'\u001b[0m\u001b[1;33m)\u001b[0m\u001b[1;33m\u001b[0m\u001b[0m\n",
      "\u001b[1;31mIndexError\u001b[0m: index 4 is out of bounds for axis 1 with size 4"
     ]
    }
   ],
   "source": [
    "# 각 요일에 대해서 변형한 다음에 best schedule 추출해 주는 함수 구현\n",
    "#우선 for문으로 \n",
    "#\n",
    "\n",
    "print(schedules) #월요일부터 금요일까지 schedule\n",
    "names = [\"Mon\",\"Tue\",\"Wed\",\"Thu\",\"Fri\"]\n",
    "days = [Mon, Tue, Wed, Thu, Fri]\n",
    "\n",
    "total_week_cost = 0\n",
    "local_optimal_schedule = []  #각 요일별로 best schedule \n",
    "\n",
    "for day_idx, day_schedule in enumerate(schedules):\n",
    "    #print(day)\n",
    "    #print()\n",
    "    routes_everycase = get_everycase(day_schedule)\n",
    "    print(routes_everycase)\n",
    "    half_mat_day = to_half_mat_by_day(full_mat, days[day_idx])\n",
    "    #print(half_mat_day) \n",
    "    #print(routes_everycase)\n",
    "    best_cost, best_route = calculate_bestcost(routes_everycase, half_mat_day)\n",
    "    #print(best_route)  \n",
    "    local_optimal_schedule.append(best_route)  \n"
   ]
  }
 ],
 "metadata": {
  "kernelspec": {
   "display_name": "Python 3",
   "language": "python",
   "name": "python3"
  },
  "language_info": {
   "codemirror_mode": {
    "name": "ipython",
    "version": 3
   },
   "file_extension": ".py",
   "mimetype": "text/x-python",
   "name": "python",
   "nbconvert_exporter": "python",
   "pygments_lexer": "ipython3",
   "version": "3.6.5"
  }
 },
 "nbformat": 4,
 "nbformat_minor": 2
}
