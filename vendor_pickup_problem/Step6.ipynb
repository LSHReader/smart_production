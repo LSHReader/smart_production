{
 "cells": [
  {
   "cell_type": "code",
   "execution_count": 3,
   "metadata": {},
   "outputs": [],
   "source": [
    "import numpy as np\n",
    "from copy import deepcopy\n",
    "from clarkewright import *  \n",
    "from vendorpickup import * "
   ]
  },
  {
   "cell_type": "markdown",
   "metadata": {},
   "source": [
    "### Step 1"
   ]
  },
  {
   "cell_type": "code",
   "execution_count": 4,
   "metadata": {},
   "outputs": [
    {
     "name": "stdout",
     "output_type": "stream",
     "text": [
      "[[0.  1.6 0.6 2.  1.7 1.6 1.5]\n",
      " [1.6 0.  1.9 3.5 0.7 1.3 3.1]\n",
      " [0.6 1.9 0.  1.6 2.2 2.2 1.6]\n",
      " [2.  3.5 1.6 0.  3.7 3.6 1.4]\n",
      " [1.7 0.7 2.2 3.7 0.  0.7 3.1]\n",
      " [1.6 1.3 2.2 3.6 0.7 0.  2.7]\n",
      " [1.5 3.1 1.6 1.4 3.1 2.7 0. ]]\n",
      "(7, 7)\n"
     ]
    }
   ],
   "source": [
    "#초기 거리 값  \n",
    "# full_mat is travel_time_matrix of from vendor to vendor \n",
    "f = [0,1.6,0.6,2,1.7,1.6,1.5],[1.6,0,1.9,3.5,0.7,1.3,3.1],[0.6,1.9,0,1.6,2.2,2.2,1.6],[2,3.5,1.6,0,3.7,3.6,1.4],[1.7,0.7,2.2,3.7,0,0.7,3.1],[1.6,1.3,2.2,3.6,0.7,0,2.7], [1.5,3.1,1.6,1.4,3.1,2.7,0]\n",
    "full_mat = np.array(f)\n",
    "print(full_mat)\n",
    "print(full_mat.shape)\n",
    "###Input 인수들  \n",
    "# number of vehicle = 1\n",
    "D = [1000,200,300,400,50,600,700] #Weekly demand of item i\n",
    "C = [10,60,30,400,4000,200,40] #Unit cost of item i\n",
    "Cr = 0.01 #Inventory holding cost (% of unit cost/week)\n",
    "Cp = [0,0,0,0,0,0,0] #Setup cost to pick up item i\n",
    "VVC = 12 #Variable vehicle cost ($/hour of travel time)\n",
    "P = [[1],[2],[3],[4],[5],[6,7]] #Set of all items to be picked up from vendor k"
   ]
  },
  {
   "cell_type": "markdown",
   "metadata": {},
   "source": [
    "### Step 2  "
   ]
  },
  {
   "cell_type": "code",
   "execution_count": 5,
   "metadata": {},
   "outputs": [
    {
     "name": "stdout",
     "output_type": "stream",
     "text": [
      "[2.0, 3.2, 3.0, 1.4, 2.0, 3.0]\n",
      "[3.2, 3.2, 4.0, 3.4, 3.2, 3.0]\n"
     ]
    }
   ],
   "source": [
    "#dt_min, dt_max 구하기\n",
    "dt_min, dt_max = cal_dtmin_dtmax(len(full_mat), full_mat)\n",
    "print(dt_min) \n",
    "print(dt_max)"
   ]
  },
  {
   "cell_type": "code",
   "execution_count": 6,
   "metadata": {},
   "outputs": [
    {
     "name": "stdout",
     "output_type": "stream",
     "text": [
      "[1.44, 1.25, 1.12, 6.9, 6.45, 4.53] [1.14, 1.25, 0.97, 4.43, 5.1, 4.53]\n"
     ]
    }
   ],
   "source": [
    "# n_max, n_min값 구하기\n",
    "n_max,n_min = cal_nmax_nmin(D, C, Cr, Cp, VVC, P, dt_min, dt_max)\n",
    "print(n_max,n_min)  "
   ]
  },
  {
   "cell_type": "markdown",
   "metadata": {},
   "source": [
    "# From here, repeated by \"Aplha\" \n",
    "### Step 3 "
   ]
  },
  {
   "cell_type": "code",
   "execution_count": 7,
   "metadata": {},
   "outputs": [
    {
     "name": "stdout",
     "output_type": "stream",
     "text": [
      "[1.14, 1.25, 0.97, 4.43, 5.1, 4.53]\n"
     ]
    }
   ],
   "source": [
    "#alpha=0일 때 n(k)값\n",
    "alpha = 0\n",
    "nk_0 = cal_nk(alpha, P, n_max, n_min)  \n",
    "print(nk_0) \n",
    "#밑에서는 반올림 해서 사용함 "
   ]
  },
  {
   "cell_type": "markdown",
   "metadata": {},
   "source": [
    "### Step 4"
   ]
  },
  {
   "cell_type": "code",
   "execution_count": 8,
   "metadata": {},
   "outputs": [
    {
     "name": "stdout",
     "output_type": "stream",
     "text": [
      "[1.0, 1.0, 1.0, 4.0, 5.0, 5.0]\n",
      "[4, 5, 6]\n",
      "[4, 5, 6]\n",
      "[1, 2, 3, 5, 6]\n",
      "[4, 5, 6]\n",
      "[4, 5, 6]\n"
     ]
    }
   ],
   "source": [
    "#alpha = 0 일 때의 요일별 vendor 방문 스케쥴\n",
    "alp = 0  \n",
    "nk, Mon, Tue, Wed, Thu, Fri = create_schedule(alp, P, n_max, n_min)   \n",
    "print(nk)  \n",
    "print(Mon)\n",
    "print(Tue)\n",
    "print(Wed)  \n",
    "print(Thu)  \n",
    "print(Fri)"
   ]
  },
  {
   "cell_type": "markdown",
   "metadata": {},
   "source": [
    "## From here, repeated by \"CW\" on each day of week\n",
    "\n",
    "### Step 5"
   ]
  },
  {
   "cell_type": "code",
   "execution_count": 9,
   "metadata": {},
   "outputs": [
    {
     "name": "stdout",
     "output_type": "stream",
     "text": [
      "Mon's must visit vendor from zero:[4, 5, 6]\n",
      "[[-1.  -1.  -1.  -1. ]\n",
      " [-1.  -1.   2.6  0.1]\n",
      " [-1.  -1.  -1.   0.4]\n",
      " [-1.  -1.  -1.  -1. ]]\n",
      "\n",
      "!!!loop start\n",
      "\n",
      "iteration:1\n",
      "[[0, 1, 2, 0], [0, 3, 0]]\n",
      "\n",
      "iteration:2\n",
      "[[0, 1, 2, 3, 0]]\n",
      "\n",
      "Mon's local optimal route(index name):[[0, 1, 2, 3, 0]]\n",
      "Mon's local optimal route(real name):[[0, 4, 5, 6, 0]]\n",
      "Mon's local optimal total cost:6.6\n",
      "loop end!!!\n",
      "\n",
      "Tue's must visit vendor from zero:[4, 5, 6]\n",
      "[[-1.  -1.  -1.  -1. ]\n",
      " [-1.  -1.   2.6  0.1]\n",
      " [-1.  -1.  -1.   0.4]\n",
      " [-1.  -1.  -1.  -1. ]]\n",
      "\n",
      "!!!loop start\n",
      "\n",
      "iteration:1\n",
      "[[0, 1, 2, 0], [0, 3, 0]]\n",
      "\n",
      "iteration:2\n",
      "[[0, 1, 2, 3, 0]]\n",
      "\n",
      "Tue's local optimal route(index name):[[0, 1, 2, 3, 0]]\n",
      "Tue's local optimal route(real name):[[0, 4, 5, 6, 0]]\n",
      "Tue's local optimal total cost:6.6\n",
      "loop end!!!\n",
      "\n",
      "Wed's must visit vendor from zero:[1, 2, 3, 5, 6]\n",
      "[[-1.  -1.  -1.  -1.  -1.  -1. ]\n",
      " [-1.  -1.   0.3  0.1  1.9  0. ]\n",
      " [-1.  -1.  -1.   1.   0.   0.5]\n",
      " [-1.  -1.  -1.  -1.   0.   2.1]\n",
      " [-1.  -1.  -1.  -1.  -1.   0.4]\n",
      " [-1.  -1.  -1.  -1.  -1.  -1. ]]\n",
      "\n",
      "!!!loop start\n",
      "\n",
      "iteration:1\n",
      "[[0, 1, 0], [0, 2, 0], [0, 3, 5, 0], [0, 4, 0]]\n",
      "\n",
      "iteration:2\n",
      "[[0, 1, 4, 0], [0, 2, 0], [0, 3, 5, 0]]\n",
      "\n",
      "iteration:3\n",
      "[[0, 1, 4, 0], [0, 2, 3, 5, 0]]\n",
      "\n",
      "iteration:4\n",
      "[[0, 1, 4, 5, 3, 2, 0]]\n",
      "\n",
      "Wed's local optimal route(index name):[[0, 1, 4, 5, 3, 2, 0]]\n",
      "Wed's local optimal route(real name):[[0, 1, 5, 6, 3, 2, 0]]\n",
      "Wed's local optimal total cost:9.2\n",
      "loop end!!!\n",
      "\n",
      "Thu's must visit vendor from zero:[4, 5, 6]\n",
      "[[-1.  -1.  -1.  -1. ]\n",
      " [-1.  -1.   2.6  0.1]\n",
      " [-1.  -1.  -1.   0.4]\n",
      " [-1.  -1.  -1.  -1. ]]\n",
      "\n",
      "!!!loop start\n",
      "\n",
      "iteration:1\n",
      "[[0, 1, 2, 0], [0, 3, 0]]\n",
      "\n",
      "iteration:2\n",
      "[[0, 1, 2, 3, 0]]\n",
      "\n",
      "Thu's local optimal route(index name):[[0, 1, 2, 3, 0]]\n",
      "Thu's local optimal route(real name):[[0, 4, 5, 6, 0]]\n",
      "Thu's local optimal total cost:6.6\n",
      "loop end!!!\n",
      "\n",
      "Fri's must visit vendor from zero:[4, 5, 6]\n",
      "[[-1.  -1.  -1.  -1. ]\n",
      " [-1.  -1.   2.6  0.1]\n",
      " [-1.  -1.  -1.   0.4]\n",
      " [-1.  -1.  -1.  -1. ]]\n",
      "\n",
      "!!!loop start\n",
      "\n",
      "iteration:1\n",
      "[[0, 1, 2, 0], [0, 3, 0]]\n",
      "\n",
      "iteration:2\n",
      "[[0, 1, 2, 3, 0]]\n",
      "\n",
      "Fri's local optimal route(index name):[[0, 1, 2, 3, 0]]\n",
      "Fri's local optimal route(real name):[[0, 4, 5, 6, 0]]\n",
      "Fri's local optimal total cost:6.6\n",
      "loop end!!!\n",
      "\n",
      "total_week_cost:35.6\n"
     ]
    }
   ],
   "source": [
    "# 요일별로 CW 돌려서 반 최적의 routes 뽑아내야함 \n",
    "# full matrix에서 step4에서 나온 요일별 스케줄 이용해서 자른 다음에 half_mat으로 바꿔서 넣어줘야 \n",
    "# to_half_mat_by_day에서 출발노드인 0번 추가해주어야  \n",
    "\n",
    "schedules = [Mon, Tue, Wed, Thu, Fri] \n",
    "names = [\"Mon\",\"Tue\",\"Wed\",\"Thu\",\"Fri\"]\n",
    "total_week_cost = 0\n",
    "\n",
    "for day_idx, day in enumerate(schedules):\n",
    "    \n",
    "    half_mat_day = to_half_mat_by_day(full_mat, day)  \n",
    "    \n",
    "    print(\"{}'s must visit vendor from zero:{}\".format(names[day_idx], day))  #list not changed! (by using deepcopy)\n",
    "    _, t_mat, demand, is_constraint = initialize(len(half_mat_day), False) \n",
    "    net_saving_mat = calculate_net_saving(half_mat_day, len(half_mat_day))\n",
    "    print(net_saving_mat)   \n",
    "    print()\n",
    "    ############\n",
    "    print(\"!!!loop start\")  \n",
    "    print()\n",
    "    \n",
    "    count = 0  \n",
    "    while(True):\n",
    "        count += 1\n",
    "        print(\"iteration:{}\".format(count)) \n",
    "        t_mat, adjacency, net_saving_mat, cells= max_net_saving(half_mat_day, t_mat, net_saving_mat, demand, is_constraint,  12345)\n",
    "        #print(t_mat) \n",
    "        #print(adjacency)  \n",
    "        #print(net_saving_mat)\n",
    "        routes = search_all_route(adjacency)  \n",
    "        print(routes)  \n",
    "        print()\n",
    "        #total_cost = calculate_cost(routes, half_mat_day)  \n",
    "        #print(total_cost)\n",
    "        \n",
    "        if len(cells) == 0 or len(routes) == 1:     \n",
    "            routes = search_all_route(adjacency)\n",
    "            ##day에 맞춰서 출력해줄라구 인덱스? 조정..\n",
    "            tmp_day = deepcopy(day)\n",
    "            tmp_day.insert(0,0) \n",
    "            real_routes = deepcopy(routes) \n",
    "            for route_idx, route in enumerate(routes):\n",
    "                for i in range(len(route)):\n",
    "                    real_routes[route_idx][i] = tmp_day[route[i]]\n",
    "                    \n",
    "                    \n",
    "            print(\"{}'s local optimal route(index name):{}\".format(names[day_idx], routes))\n",
    "            print(\"{}'s local optimal route(real name):{}\".format(names[day_idx], real_routes))\n",
    "            total_cost = calculate_cost(routes, half_mat_day)\n",
    "            print(\"{}'s local optimal total cost:{}\".format(names[day_idx],total_cost))\n",
    "            total_week_cost += total_cost  \n",
    "        \n",
    "            print(\"loop end!!!\")\n",
    "            print()\n",
    "            break\n",
    "            \n",
    "print(\"total_week_cost:{}\".format(total_week_cost))"
   ]
  },
  {
   "cell_type": "code",
   "execution_count": 10,
   "metadata": {},
   "outputs": [],
   "source": [
    "### function_ver \n",
    "#특정한 alpha값에 대해서 그때의 요일별 best schedule을 리턴해줌 \n",
    "def calculate_total_week_cost(Mon, Tue, Wed, Thu, Fri, full_mat):\n",
    "# 요일별로 CW 돌려서 반 최적의 routes 뽑아내야함 \n",
    "# full matrix에서 step4에서 나온 요일별 스케줄 이용해서 자른 다음에 half_mat으로 바꿔서 넣어줘야 \n",
    "# to_half_mat_by_day에서 출발노드인 0번 추가해주어야  \n",
    "\n",
    "    schedules = [Mon, Tue, Wed, Thu, Fri] \n",
    "    names = [\"Mon\",\"Tue\",\"Wed\",\"Thu\",\"Fri\"]\n",
    "    total_week_cost = 0\n",
    "    local_optimal_schedule = []\n",
    "\n",
    "    for day_idx, day in enumerate(schedules):\n",
    "\n",
    "        half_mat_day = to_half_mat_by_day(full_mat, day)  #from vendorpickup.py \n",
    "        #print(\"{}'s must visit vendor from zero:{}\".format(names[day_idx], day))  #list not changed! (by using deepcopy)\n",
    "        _, t_mat, demand, is_constraint = initialize(len(half_mat_day), False) #from clarkewright.py  \n",
    "        net_saving_mat = calculate_net_saving(half_mat_day, len(half_mat_day)) #from clarkewright.py  \n",
    "\n",
    "        while(True):\n",
    "            t_mat, adjacency, net_saving_mat, cells= max_net_saving(half_mat_day, t_mat, net_saving_mat, demand, is_constraint,  12345)\n",
    "            routes = search_all_route(adjacency) \n",
    "            if len(cells) == 0 or len(routes) == 1:  \n",
    "                routes = search_all_route(adjacency) \n",
    "                #실제 vendor number에 맞게 조정 \n",
    "                tmp_day = deepcopy(day)\n",
    "                tmp_day.insert(0,0) \n",
    "                real_routes = deepcopy(routes) \n",
    "                for route_idx, route in enumerate(routes):\n",
    "                    for i in range(len(route)):\n",
    "                        real_routes[route_idx][i] = tmp_day[route[i]]\n",
    "                \n",
    "                local_optimal_schedule.append(real_routes)\n",
    "                total_cost = calculate_cost(routes, half_mat_day)  \n",
    "                total_week_cost += total_cost \n",
    "                break\n",
    "            \n",
    "    return total_week_cost, local_optimal_schedule"
   ]
  },
  {
   "cell_type": "markdown",
   "metadata": {},
   "source": [
    "### STEP 6  "
   ]
  },
  {
   "cell_type": "code",
   "execution_count": 12,
   "metadata": {},
   "outputs": [],
   "source": [
    "# 모든 경우의 수를 뽑기 위한 모듈 import\n",
    "from itertools import permutations"
   ]
  },
  {
   "cell_type": "code",
   "execution_count": 11,
   "metadata": {},
   "outputs": [],
   "source": [
    "# 가능한 모든 경로를 추출하는 함수 (방문 노드는 고정, 여러 개의 루트가 나왔을 때도 사용 가능)\n",
    "def get_everycase(routes):\n",
    "    everycase = []\n",
    "    for i in range(len(routes)):\n",
    "        a = routes[i][1:-1]\n",
    "        b = list(permutations(a,len(a)))\n",
    "        e, routes_cases,routes_everycase = [], [], []\n",
    "        \n",
    "        for j in range(len(b)):        \n",
    "            e.append(list(b[j]))\n",
    "            routes_cases.append([0] + e[j] + [0])\n",
    "            \n",
    "        if len(routes) == 1:\n",
    "            routes_everycase = routes_cases\n",
    "            return routes_everycase\n",
    "            break\n",
    "            \n",
    "        if len(everycase) == 0:\n",
    "            for k in range(len(routes_cases)):\n",
    "                d = []\n",
    "                d.append(routes_cases[k])\n",
    "                everycase.append(d)\n",
    "                \n",
    "        elif len(routes) == 2: \n",
    "            for k in range(len(everycase)):\n",
    "                for l in range(len(routes_cases)):\n",
    "                    everycase[k].append(routes_cases[l])\n",
    "                    d3 = deepcopy(everycase)\n",
    "                    routes_everycase.append(d3[k])\n",
    "                    everycase[k].pop()\n",
    "        else:\n",
    "            m = 2\n",
    "            while(m < len(routes)):\n",
    "                for k in range(len(everycase)):\n",
    "                    for l in range(len(routes_cases)):\n",
    "                        everycase[k].append(routes_cases[l])\n",
    "                        d3 = deepcopy(everycase)\n",
    "                        routes_everycase.append(d3[k])\n",
    "                        everycase[k].pop()\n",
    "                d4 = deepcopy(routes_everycase)\n",
    "                everycase = d4 \n",
    "                m += 1\n",
    "                break\n",
    "                \n",
    "    return routes_everycase"
   ]
  },
  {
   "cell_type": "code",
   "execution_count": 13,
   "metadata": {},
   "outputs": [
    {
     "data": {
      "text/plain": [
       "[[0, 1, 2, 3, 0],\n",
       " [0, 1, 3, 2, 0],\n",
       " [0, 2, 1, 3, 0],\n",
       " [0, 2, 3, 1, 0],\n",
       " [0, 3, 1, 2, 0],\n",
       " [0, 3, 2, 1, 0]]"
      ]
     },
     "execution_count": 13,
     "metadata": {},
     "output_type": "execute_result"
    }
   ],
   "source": [
    "#단일 루트일 때 확인\n",
    "routes = [[0,1,2,3,0]] #한 요일에 대한 schedule \n",
    "routes_everycase = get_everycase(routes)\n",
    "routes_everycase"
   ]
  },
  {
   "cell_type": "code",
   "execution_count": 14,
   "metadata": {},
   "outputs": [
    {
     "data": {
      "text/plain": [
       "[[[0, 1, 2, 0], [0, 3, 4, 0]],\n",
       " [[0, 1, 2, 0], [0, 4, 3, 0]],\n",
       " [[0, 2, 1, 0], [0, 3, 4, 0]],\n",
       " [[0, 2, 1, 0], [0, 4, 3, 0]]]"
      ]
     },
     "execution_count": 14,
     "metadata": {},
     "output_type": "execute_result"
    }
   ],
   "source": [
    "#이중 루트일 때 확인\n",
    "routes = [[0,1,2,0],[0,3,4,0]]\n",
    "routes_everycase = get_everycase(routes)\n",
    "routes_everycase"
   ]
  },
  {
   "cell_type": "code",
   "execution_count": 15,
   "metadata": {},
   "outputs": [
    {
     "data": {
      "text/plain": [
       "[[[0, 1, 2, 0], [0, 3, 4, 0], [0, 5, 6, 0]],\n",
       " [[0, 1, 2, 0], [0, 3, 4, 0], [0, 6, 5, 0]],\n",
       " [[0, 1, 2, 0], [0, 4, 3, 0], [0, 5, 6, 0]],\n",
       " [[0, 1, 2, 0], [0, 4, 3, 0], [0, 6, 5, 0]],\n",
       " [[0, 2, 1, 0], [0, 3, 4, 0], [0, 5, 6, 0]],\n",
       " [[0, 2, 1, 0], [0, 3, 4, 0], [0, 6, 5, 0]],\n",
       " [[0, 2, 1, 0], [0, 4, 3, 0], [0, 5, 6, 0]],\n",
       " [[0, 2, 1, 0], [0, 4, 3, 0], [0, 6, 5, 0]]]"
      ]
     },
     "execution_count": 15,
     "metadata": {},
     "output_type": "execute_result"
    }
   ],
   "source": [
    "#삼중 루트일 때 확인 // N>3인 다중 루트일 때도 가능\n",
    "routes = [[0,1,2,0],[0,3,4,0],[0,5,6,0]]\n",
    "routes_everycase = get_everycase(routes)\n",
    "routes_everycase"
   ]
  },
  {
   "cell_type": "code",
   "execution_count": 16,
   "metadata": {},
   "outputs": [],
   "source": [
    "#요일별 모든 exchange 경로(index값)과 half_mat_day를 받았을 때, 최적 경로와 비용 계산 \n",
    "def calculate_bestcost(routes_everycase, half_mat_day):\n",
    "    #route에 따른 cost 리턴하기?  \n",
    "    \n",
    "    #half matrix를 전체 matrix로 확장(인접하게)\n",
    "    #각 노드들 간의 최단 거리 행렬 \n",
    "    changed_half_mat = np.copy(half_mat_day)\n",
    "    for i in range(len(changed_half_mat)):\n",
    "        for j in range(len(changed_half_mat)):\n",
    "            if changed_half_mat[i,j] == -1:\n",
    "                changed_half_mat[i,j] = 0\n",
    "    \n",
    "    #print(changed_half_mat)\n",
    "    \n",
    "    total_mat = changed_half_mat + np.transpose(changed_half_mat) \n",
    "    #print(total_mat)\n",
    "    #routes에 따라서 cost 계산\n",
    "    total_cost = 0\n",
    "    best_cost = 10000\n",
    "    \n",
    "    for route_idx, route in enumerate(routes_everycase):\n",
    "        for i in range(len(route)-1):  \n",
    "            total_cost += total_mat[route[i],route[i+1]]\n",
    "        total_cost = round(total_cost,10)\n",
    "        print(f'{routes_everycase[route_idx]}일 때 비용 {total_cost}')\n",
    "        if best_cost > total_cost :\n",
    "            best_cost = total_cost\n",
    "            best_route = routes_everycase[route_idx]\n",
    "        total_cost = 0\n",
    "    print(f' 최적 경로는 : {best_route}. 이 때의 비용은 : {best_cost}')     \n",
    "    return best_cost, best_route"
   ]
  },
  {
   "cell_type": "code",
   "execution_count": 17,
   "metadata": {},
   "outputs": [],
   "source": [
    "#기존 vendorpickup에 있는 함수\n",
    "def to_half_mat_by_day(full_mat, day):    \n",
    "    #요일별로 full matrix 잘라서 half_matrix 형태로 바꿔주기  \n",
    "    # ex) half_mat = np.array([[-1,10,12,15,7],[-1,-1,5,12,11],[-1,-1,-1,7,9],[-1,-1,-1,-1,10],[-1,-1,-1,-1,-1]])\n",
    "    \n",
    "   \n",
    "    #cut by indices\n",
    "    indices = deepcopy(day) \n",
    "    indices.insert(0,0)\n",
    "    indices = np.array(indices)\n",
    "    #print(indices)\n",
    "    tmp_mat = np.copy(full_mat[indices]) #cut row\n",
    "    tmp_mat = np.copy(tmp_mat[:,indices]) #cut column\n",
    "    \n",
    "    #change to half matrix \n",
    "    half_mat = np.triu(tmp_mat)\n",
    "    #print(half_mat)     \n",
    "    for i in range(len(half_mat)):\n",
    "        for j in range(len(half_mat)):\n",
    "            if half_mat[i,j] == 0: #tmp_mat의 upper diagonal이 모두 0이 아닐 경우에만 이게 맞는 코딩임  \n",
    "                half_mat[i,j] = -1\n",
    "    #print(half_mat)\n",
    "\n",
    "    \n",
    "    return half_mat"
   ]
  },
  {
   "cell_type": "code",
   "execution_count": 1,
   "metadata": {},
   "outputs": [
    {
     "ename": "SyntaxError",
     "evalue": "invalid syntax (<ipython-input-1-5370be05a356>, line 5)",
     "output_type": "error",
     "traceback": [
      "\u001b[1;36m  File \u001b[1;32m\"<ipython-input-1-5370be05a356>\"\u001b[1;36m, line \u001b[1;32m5\u001b[0m\n\u001b[1;33m    names = [\"Mon\",\"Tue\",\"Wed\",\"Thu\",\"Fri\"]\u001b[0m\n\u001b[1;37m        ^\u001b[0m\n\u001b[1;31mSyntaxError\u001b[0m\u001b[1;31m:\u001b[0m invalid syntax\n"
     ]
    }
   ],
   "source": [
    "#미구현\n",
    "#요일별 EXCHANGE에 따른 경로 및 비용계산\n",
    "def cal_exchange(days):\n",
    "    routes = [[[0,1,2,3,0]],[[0,1,2,3,0]],[[0,1,4,5,3,2,0]],[[0,1,2,3,0]],[[0,1,2,3,0]]\n",
    "    names = [\"Mon\",\"Tue\",\"Wed\",\"Thu\",\"Fri\"]  \n",
    "              \n",
    "    for day_idx, day in enumerate(routes):\n",
    "        half_mat_day = to_half_mat_by_day(full_mat, day)\n",
    "        routes_everycase = get_everycase(routes[day_idx])\n",
    "        print(day)\n",
    "        calculate_bestcost(routes_everycase, half_mat_day)  "
   ]
  },
  {
   "cell_type": "code",
   "execution_count": 18,
   "metadata": {},
   "outputs": [
    {
     "name": "stdout",
     "output_type": "stream",
     "text": [
      "[[0, 1, 2, 3, 0], [0, 1, 3, 2, 0], [0, 2, 1, 3, 0], [0, 2, 3, 1, 0], [0, 3, 1, 2, 0], [0, 3, 2, 1, 0]]\n",
      "[[-1.   1.7  1.6  1.5]\n",
      " [-1.  -1.   0.7  3.1]\n",
      " [-1.  -1.  -1.   2.7]\n",
      " [-1.  -1.  -1.  -1. ]]\n"
     ]
    }
   ],
   "source": [
    "#월화목금 계산을 위한 준비\n",
    "routes = [[0,1,2,3,0]]\n",
    "routes_everycase = get_everycase(routes)\n",
    "half_mat_day = to_half_mat_by_day(full_mat, Mon)\n",
    "print(routes_everycase) \n",
    "print(half_mat_day)"
   ]
  },
  {
   "cell_type": "code",
   "execution_count": 19,
   "metadata": {},
   "outputs": [
    {
     "name": "stdout",
     "output_type": "stream",
     "text": [
      "[0, 1, 2, 3, 0]일 때 비용 6.6\n",
      "[0, 1, 3, 2, 0]일 때 비용 9.1\n",
      "[0, 2, 1, 3, 0]일 때 비용 6.9\n",
      "[0, 2, 3, 1, 0]일 때 비용 9.1\n",
      "[0, 3, 1, 2, 0]일 때 비용 6.9\n",
      "[0, 3, 2, 1, 0]일 때 비용 6.6\n",
      " 최적 경로는 : [0, 1, 2, 3, 0]. 이 때의 비용은 : 6.6\n",
      "6.6\n",
      "[0, 1, 2, 3, 0]\n"
     ]
    }
   ],
   "source": [
    "#월화목금 최적 경로 및 비용 \n",
    "MTTF, mttf= calculate_bestcost(routes_everycase, half_mat_day)\n",
    "print(MTTF)  \n",
    "print(mttf)"
   ]
  },
  {
   "cell_type": "code",
   "execution_count": 448,
   "metadata": {},
   "outputs": [
    {
     "name": "stdout",
     "output_type": "stream",
     "text": [
      "[[-1.   1.6  0.6  2.   1.7  1.6  1.5]\n",
      " [-1.  -1.   1.9  3.5  0.7  1.3  3.1]\n",
      " [-1.  -1.  -1.   1.6  2.2  2.2  1.6]\n",
      " [-1.  -1.  -1.  -1.   3.7  3.6  1.4]\n",
      " [-1.  -1.  -1.  -1.  -1.   0.7  3.1]\n",
      " [-1.  -1.  -1.  -1.  -1.  -1.   2.7]\n",
      " [-1.  -1.  -1.  -1.  -1.  -1.  -1. ]]\n"
     ]
    }
   ],
   "source": [
    "#수요일 계산을 위한 준비 #half_mat_day 정상 작동 X\n",
    "routes = [[0,1,4,5,3,2,0]]\n",
    "routes_everycase = get_everycase(routes)\n",
    "half_mat_day = to_half_mat_by_day(full_mat,Wed)\n",
    "print(half_mat_day)"
   ]
  },
  {
   "cell_type": "markdown",
   "metadata": {},
   "source": [
    "### Step 7 & 8   \n",
    "\n",
    "\n",
    "##### aplha 값을 다르게 해서 step3부터 step 5까지 반복\n",
    "\n",
    "- 무엇을 비교? 10개의 alpha 중 total_week_cost가 가장 작은 경우 반환 "
   ]
  },
  {
   "cell_type": "code",
   "execution_count": 9,
   "metadata": {},
   "outputs": [
    {
     "name": "stdout",
     "output_type": "stream",
     "text": [
      "total travel cost when alpha:0.0 is 35.6\n",
      "total travel cost when alpha:0.1 is 35.7\n",
      "total travel cost when alpha:0.2 is 35.7\n",
      "total travel cost when alpha:0.3 is 35.7\n",
      "total travel cost when alpha:0.4 is 35.7\n",
      "total travel cost when alpha:0.5 is 35.7\n",
      "total travel cost when alpha:0.6 is 35.7\n",
      "total travel cost when alpha:0.7 is 35.7\n",
      "total travel cost when alpha:0.8 is 35.7\n",
      "total travel cost when alpha:0.9 is 35.7\n",
      "total travel cost when alpha:1.0 is 35.7\n",
      "Mon's best schedule:[[0, 4, 5, 6, 0]]\n",
      "Tue's best schedule:[[0, 4, 5, 6, 0]]\n",
      "Wed's best schedule:[[0, 1, 5, 6, 3, 2, 0]]\n",
      "Thu's best schedule:[[0, 4, 5, 6, 0]]\n",
      "Fri's best schedule:[[0, 4, 5, 6, 0]]\n"
     ]
    }
   ],
   "source": [
    "mincost = 1000000 \n",
    "\n",
    "best_schedule = None \n",
    "\n",
    "for alpha in range(11):   \n",
    "    #step 3 & 4  \n",
    "    nk, Mon, Tue, Wed, Thu, Fri = create_schedule(alpha/10, P, n_max, n_min)  \n",
    "    #step 5 \n",
    "    travel_cost, schedule = calculate_total_week_cost(Mon, Tue, Wed, Thu, Fri, full_mat)\n",
    "    print(\"total travel cost when alpha:{} is {}\".format(alpha/10, travel_cost))\n",
    "    if travel_cost < mincost:  \n",
    "        mincost = travel_cost\n",
    "        best_schedule = schedule  \n",
    "        \n",
    "#print(best_schedule)   \n",
    "names = [\"Mon\",\"Tue\",\"Wed\",\"Thu\",\"Fri\"]\n",
    "for i in range(0,len(best_schedule)): \n",
    "    print(\"{}'s best schedule:{}\".format(names[i], best_schedule[i]))     "
   ]
  },
  {
   "cell_type": "code",
   "execution_count": null,
   "metadata": {},
   "outputs": [],
   "source": []
  }
 ],
 "metadata": {
  "kernelspec": {
   "display_name": "Python 3",
   "language": "python",
   "name": "python3"
  },
  "language_info": {
   "codemirror_mode": {
    "name": "ipython",
    "version": 3
   },
   "file_extension": ".py",
   "mimetype": "text/x-python",
   "name": "python",
   "nbconvert_exporter": "python",
   "pygments_lexer": "ipython3",
   "version": "3.6.5"
  }
 },
 "nbformat": 4,
 "nbformat_minor": 2
}
