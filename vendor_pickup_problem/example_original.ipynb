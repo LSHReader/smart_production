{
 "cells": [
  {
   "cell_type": "code",
   "execution_count": 3,
   "metadata": {},
   "outputs": [],
   "source": [
    "import numpy as np\n",
    "from copy import deepcopy\n",
    "from clarkewright import *  \n",
    "from vendorpickup import * "
   ]
  },
  {
   "cell_type": "markdown",
   "metadata": {},
   "source": [
    "### Step 1"
   ]
  },
  {
   "cell_type": "code",
   "execution_count": 4,
   "metadata": {},
   "outputs": [
    {
     "name": "stdout",
     "output_type": "stream",
     "text": [
      "[[0.  1.6 0.6 2.  1.7 1.6 1.5]\n",
      " [1.6 0.  1.9 3.5 0.7 1.3 3.1]\n",
      " [0.6 1.9 0.  1.6 2.2 2.2 1.6]\n",
      " [2.  3.5 1.6 0.  3.7 3.6 1.4]\n",
      " [1.7 0.7 2.2 3.7 0.  0.7 3.1]\n",
      " [1.6 1.3 2.2 3.6 0.7 0.  2.7]\n",
      " [1.5 3.1 1.6 1.4 3.1 2.7 0. ]]\n",
      "(7, 7)\n"
     ]
    }
   ],
   "source": [
    "#초기 거리 값  \n",
    "# full_mat is travel_time_matrix of from vendor to vendor \n",
    "f = [0,1.6,0.6,2,1.7,1.6,1.5],[1.6,0,1.9,3.5,0.7,1.3,3.1],[0.6,1.9,0,1.6,2.2,2.2,1.6],[2,3.5,1.6,0,3.7,3.6,1.4],[1.7,0.7,2.2,3.7,0,0.7,3.1],[1.6,1.3,2.2,3.6,0.7,0,2.7], [1.5,3.1,1.6,1.4,3.1,2.7,0]\n",
    "full_mat = np.array(f)\n",
    "print(full_mat)\n",
    "print(full_mat.shape)\n",
    "###Input 인수들  \n",
    "# number of vehicle = 1\n",
    "D = [1000,200,300,400,50,600,700] #Weekly demand of item i\n",
    "C = [10,60,30,400,4000,200,40] #Unit cost of item i\n",
    "Cr = 0.01 #Inventory holding cost (% of unit cost/week)\n",
    "Cp = [0,0,0,0,0,0,0] #Setup cost to pick up item i\n",
    "VVC = 12 #Variable vehicle cost ($/hour of travel time)\n",
    "P = [[1],[2],[3],[4],[5],[6,7]] #Set of all items to be picked up from vendor k"
   ]
  },
  {
   "cell_type": "markdown",
   "metadata": {},
   "source": [
    "### Step 2  "
   ]
  },
  {
   "cell_type": "code",
   "execution_count": 5,
   "metadata": {},
   "outputs": [
    {
     "name": "stdout",
     "output_type": "stream",
     "text": [
      "[2.0, 3.2, 3.0, 1.4, 2.0, 3.0]\n",
      "[3.2, 3.2, 4.0, 3.4, 3.2, 3.0]\n"
     ]
    }
   ],
   "source": [
    "#dt_min, dt_max 구하기\n",
    "dt_min, dt_max = cal_dtmin_dtmax(len(full_mat), full_mat)\n",
    "print(dt_min) \n",
    "print(dt_max)"
   ]
  },
  {
   "cell_type": "code",
   "execution_count": 6,
   "metadata": {},
   "outputs": [
    {
     "name": "stdout",
     "output_type": "stream",
     "text": [
      "[1.44, 1.25, 1.12, 6.9, 6.45, 4.53] [1.14, 1.25, 0.97, 4.43, 5.1, 4.53]\n"
     ]
    }
   ],
   "source": [
    "# n_max, n_min값 구하기\n",
    "n_max,n_min = cal_nmax_nmin(D, C, Cr, Cp, VVC, P, dt_min, dt_max)\n",
    "print(n_max,n_min)  "
   ]
  },
  {
   "cell_type": "markdown",
   "metadata": {},
   "source": [
    "# From here, repeated by \"Aplha\" \n",
    "### Step 3 "
   ]
  },
  {
   "cell_type": "code",
   "execution_count": 33,
   "metadata": {},
   "outputs": [
    {
     "name": "stdout",
     "output_type": "stream",
     "text": [
      "[1.14, 1.25, 0.97, 4.43, 5.1, 4.53]\n"
     ]
    }
   ],
   "source": [
    "#alpha=0일 때 n(k)값\n",
    "alpha = 0\n",
    "nk_0 = cal_nk(alpha, P, n_max, n_min)  \n",
    "print(nk_0) \n",
    "#밑에서는 반올림 해서 사용함 "
   ]
  },
  {
   "cell_type": "markdown",
   "metadata": {},
   "source": [
    "### Step 4"
   ]
  },
  {
   "cell_type": "code",
   "execution_count": 34,
   "metadata": {},
   "outputs": [
    {
     "name": "stdout",
     "output_type": "stream",
     "text": [
      "[1.0, 1.0, 1.0, 4.0, 5.0, 5.0]\n",
      "[4, 5, 6]\n",
      "[4, 5, 6]\n",
      "[1, 2, 3, 5, 6]\n",
      "[4, 5, 6]\n",
      "[4, 5, 6]\n"
     ]
    }
   ],
   "source": [
    "#alpha = 0 일 때의 요일별 vendor 방문 스케쥴\n",
    "alp = 0  \n",
    "nk, Mon, Tue, Wed, Thu, Fri = create_schedule(alp, P, n_max, n_min)   \n",
    "print(nk)  \n",
    "print(Mon)\n",
    "print(Tue)\n",
    "print(Wed)  \n",
    "print(Thu)  \n",
    "print(Fri)"
   ]
  },
  {
   "cell_type": "markdown",
   "metadata": {},
   "source": [
    "## From here, repeated by \"CW\" on each day of week\n",
    "\n",
    "### Step 5"
   ]
  },
  {
   "cell_type": "code",
   "execution_count": 35,
   "metadata": {},
   "outputs": [
    {
     "name": "stdout",
     "output_type": "stream",
     "text": [
      "Mon's must visit vendor from zero:[4, 5, 6]\n",
      "[[-1.  -1.  -1.  -1. ]\n",
      " [-1.  -1.   2.6  0.1]\n",
      " [-1.  -1.  -1.   0.4]\n",
      " [-1.  -1.  -1.  -1. ]]\n",
      "\n",
      "!!!loop start\n",
      "\n",
      "iteration:1\n",
      "[[0, 1, 2, 0], [0, 3, 0]]\n",
      "\n",
      "iteration:2\n",
      "[[0, 1, 2, 3, 0]]\n",
      "\n",
      "Mon's local optimal route(index name):[[0, 1, 2, 3, 0]]\n",
      "Mon's local optimal route(real name):[[0, 4, 5, 6, 0]]\n",
      "Mon's local optimal total cost:6.6\n",
      "loop end!!!\n",
      "\n",
      "Tue's must visit vendor from zero:[4, 5, 6]\n",
      "[[-1.  -1.  -1.  -1. ]\n",
      " [-1.  -1.   2.6  0.1]\n",
      " [-1.  -1.  -1.   0.4]\n",
      " [-1.  -1.  -1.  -1. ]]\n",
      "\n",
      "!!!loop start\n",
      "\n",
      "iteration:1\n",
      "[[0, 1, 2, 0], [0, 3, 0]]\n",
      "\n",
      "iteration:2\n",
      "[[0, 1, 2, 3, 0]]\n",
      "\n",
      "Tue's local optimal route(index name):[[0, 1, 2, 3, 0]]\n",
      "Tue's local optimal route(real name):[[0, 4, 5, 6, 0]]\n",
      "Tue's local optimal total cost:6.6\n",
      "loop end!!!\n",
      "\n",
      "Wed's must visit vendor from zero:[1, 2, 3, 5, 6]\n",
      "[[-1.  -1.  -1.  -1.  -1.  -1. ]\n",
      " [-1.  -1.   0.3  0.1  1.9  0. ]\n",
      " [-1.  -1.  -1.   1.   0.   0.5]\n",
      " [-1.  -1.  -1.  -1.   0.   2.1]\n",
      " [-1.  -1.  -1.  -1.  -1.   0.4]\n",
      " [-1.  -1.  -1.  -1.  -1.  -1. ]]\n",
      "\n",
      "!!!loop start\n",
      "\n",
      "iteration:1\n",
      "[[0, 1, 0], [0, 2, 0], [0, 3, 5, 0], [0, 4, 0]]\n",
      "\n",
      "iteration:2\n",
      "[[0, 1, 4, 0], [0, 2, 0], [0, 3, 5, 0]]\n",
      "\n",
      "iteration:3\n",
      "[[0, 1, 4, 0], [0, 2, 3, 5, 0]]\n",
      "\n",
      "iteration:4\n",
      "[[0, 1, 4, 5, 3, 2, 0]]\n",
      "\n",
      "Wed's local optimal route(index name):[[0, 1, 4, 5, 3, 2, 0]]\n",
      "Wed's local optimal route(real name):[[0, 1, 5, 6, 3, 2, 0]]\n",
      "Wed's local optimal total cost:9.2\n",
      "loop end!!!\n",
      "\n",
      "Thu's must visit vendor from zero:[4, 5, 6]\n",
      "[[-1.  -1.  -1.  -1. ]\n",
      " [-1.  -1.   2.6  0.1]\n",
      " [-1.  -1.  -1.   0.4]\n",
      " [-1.  -1.  -1.  -1. ]]\n",
      "\n",
      "!!!loop start\n",
      "\n",
      "iteration:1\n",
      "[[0, 1, 2, 0], [0, 3, 0]]\n",
      "\n",
      "iteration:2\n",
      "[[0, 1, 2, 3, 0]]\n",
      "\n",
      "Thu's local optimal route(index name):[[0, 1, 2, 3, 0]]\n",
      "Thu's local optimal route(real name):[[0, 4, 5, 6, 0]]\n",
      "Thu's local optimal total cost:6.6\n",
      "loop end!!!\n",
      "\n",
      "Fri's must visit vendor from zero:[4, 5, 6]\n",
      "[[-1.  -1.  -1.  -1. ]\n",
      " [-1.  -1.   2.6  0.1]\n",
      " [-1.  -1.  -1.   0.4]\n",
      " [-1.  -1.  -1.  -1. ]]\n",
      "\n",
      "!!!loop start\n",
      "\n",
      "iteration:1\n",
      "[[0, 1, 2, 0], [0, 3, 0]]\n",
      "\n",
      "iteration:2\n",
      "[[0, 1, 2, 3, 0]]\n",
      "\n",
      "Fri's local optimal route(index name):[[0, 1, 2, 3, 0]]\n",
      "Fri's local optimal route(real name):[[0, 4, 5, 6, 0]]\n",
      "Fri's local optimal total cost:6.6\n",
      "loop end!!!\n",
      "\n",
      "total_week_cost:35.6\n"
     ]
    }
   ],
   "source": [
    "# 요일별로 CW 돌려서 반 최적의 routes 뽑아내야함 \n",
    "# full matrix에서 step4에서 나온 요일별 스케줄 이용해서 자른 다음에 half_mat으로 바꿔서 넣어줘야 \n",
    "# to_half_mat_by_day에서 출발노드인 0번 추가해주어야  \n",
    "\n",
    "schedules = [Mon, Tue, Wed, Thu, Fri] \n",
    "names = [\"Mon\",\"Tue\",\"Wed\",\"Thu\",\"Fri\"]\n",
    "total_week_cost = 0\n",
    "\n",
    "for day_idx, day in enumerate(schedules):\n",
    "    \n",
    "    half_mat_day = to_half_mat_by_day(full_mat, day)  \n",
    "    \n",
    "    print(\"{}'s must visit vendor from zero:{}\".format(names[day_idx], day))  #list not changed! (by using deepcopy)\n",
    "    _, t_mat, demand, is_constraint = initialize(len(half_mat_day), False) \n",
    "    net_saving_mat = calculate_net_saving(half_mat_day, len(half_mat_day))\n",
    "    print(net_saving_mat)   \n",
    "    print()\n",
    "    ############\n",
    "    print(\"!!!loop start\")  \n",
    "    print()\n",
    "    \n",
    "    count = 0  \n",
    "    while(True):\n",
    "        count += 1\n",
    "        print(\"iteration:{}\".format(count)) \n",
    "        t_mat, adjacency, net_saving_mat, cells= max_net_saving(half_mat_day, t_mat, net_saving_mat, demand, is_constraint,  12345)\n",
    "        #print(t_mat) \n",
    "        #print(adjacency)  \n",
    "        #print(net_saving_mat)\n",
    "        routes = search_all_route(adjacency)  \n",
    "        print(routes)  \n",
    "        print()\n",
    "        #total_cost = calculate_cost(routes, half_mat_day)  \n",
    "        #print(total_cost)\n",
    "        \n",
    "        if len(cells) == 0 or len(routes) == 1:     \n",
    "            routes = search_all_route(adjacency)\n",
    "            ##day에 맞춰서 출력해줄라구 인덱스? 조정..\n",
    "            tmp_day = deepcopy(day)\n",
    "            tmp_day.insert(0,0) \n",
    "            real_routes = deepcopy(routes) \n",
    "            for route_idx, route in enumerate(routes):\n",
    "                for i in range(len(route)):\n",
    "                    real_routes[route_idx][i] = tmp_day[route[i]]\n",
    "                    \n",
    "                    \n",
    "            print(\"{}'s local optimal route(index name):{}\".format(names[day_idx], routes))\n",
    "            print(\"{}'s local optimal route(real name):{}\".format(names[day_idx], real_routes))\n",
    "            total_cost = calculate_cost(routes, half_mat_day)\n",
    "            print(\"{}'s local optimal total cost:{}\".format(names[day_idx],total_cost))\n",
    "            total_week_cost += total_cost  \n",
    "        \n",
    "            print(\"loop end!!!\")\n",
    "            print()\n",
    "            break\n",
    "            \n",
    "print(\"total_week_cost:{}\".format(total_week_cost))"
   ]
  },
  {
   "cell_type": "code",
   "execution_count": 41,
   "metadata": {},
   "outputs": [],
   "source": [
    "### function_ver \n",
    "\n",
    "def calculate_total_week_cost(Mon, Tue, Wed, Thu, Fri, full_mat):\n",
    "# 요일별로 CW 돌려서 반 최적의 routes 뽑아내야함 \n",
    "# full matrix에서 step4에서 나온 요일별 스케줄 이용해서 자른 다음에 half_mat으로 바꿔서 넣어줘야 \n",
    "# to_half_mat_by_day에서 출발노드인 0번 추가해주어야  \n",
    "\n",
    "    schedules = [Mon, Tue, Wed, Thu, Fri] \n",
    "    names = [\"Mon\",\"Tue\",\"Wed\",\"Thu\",\"Fri\"]\n",
    "    total_week_cost = 0\n",
    "    local_optimal_schedule = []\n",
    "\n",
    "    for day_idx, day in enumerate(schedules):\n",
    "\n",
    "        half_mat_day = to_half_mat_by_day(full_mat, day)  #from vendorpickup.py \n",
    "        #print(\"{}'s must visit vendor from zero:{}\".format(names[day_idx], day))  #list not changed! (by using deepcopy)\n",
    "        _, t_mat, demand, is_constraint = initialize(len(half_mat_day), False) #from clarkewright.py  \n",
    "        net_saving_mat = calculate_net_saving(half_mat_day, len(half_mat_day)) #from clarkewright.py  \n",
    "\n",
    "        while(True):\n",
    "            t_mat, adjacency, net_saving_mat, cells= max_net_saving(half_mat_day, t_mat, net_saving_mat, demand, is_constraint,  12345)\n",
    "            routes = search_all_route(adjacency) \n",
    "            if len(cells) == 0 or len(routes) == 1:  \n",
    "                routes = search_all_route(adjacency) \n",
    "                #실제 vendor number에 맞게 조정 \n",
    "                tmp_day = deepcopy(day)\n",
    "                tmp_day.insert(0,0) \n",
    "                real_routes = deepcopy(routes) \n",
    "                for route_idx, route in enumerate(routes):\n",
    "                    for i in range(len(route)):\n",
    "                        real_routes[route_idx][i] = tmp_day[route[i]]\n",
    "                \n",
    "                local_optimal_schedule.append(real_routes)\n",
    "                total_cost = calculate_cost(routes, half_mat_day)  \n",
    "                total_week_cost += total_cost \n",
    "                break\n",
    "            \n",
    "    return total_week_cost, local_optimal_schedule"
   ]
  },
  {
   "cell_type": "markdown",
   "metadata": {},
   "source": [
    "### Step 7 & 8   \n",
    "\n",
    "\n",
    "##### aplha 값을 다르게 해서 step3부터 step 5까지 반복\n",
    "\n",
    "- 무엇을 비교? 10개의 alpha 중 total_week_cost가 가장 작은 경우 반환 "
   ]
  },
  {
   "cell_type": "code",
   "execution_count": 42,
   "metadata": {},
   "outputs": [
    {
     "name": "stdout",
     "output_type": "stream",
     "text": [
      "total travel cost when alpha:0.0 is 35.6\n",
      "total travel cost when alpha:0.1 is 35.7\n",
      "total travel cost when alpha:0.2 is 35.7\n",
      "total travel cost when alpha:0.3 is 35.7\n",
      "total travel cost when alpha:0.4 is 35.7\n",
      "total travel cost when alpha:0.5 is 35.7\n",
      "total travel cost when alpha:0.6 is 35.7\n",
      "total travel cost when alpha:0.7 is 35.7\n",
      "total travel cost when alpha:0.8 is 35.7\n",
      "total travel cost when alpha:0.9 is 35.7\n",
      "total travel cost when alpha:1.0 is 35.7\n",
      "Mon's best schedule:[[0, 4, 5, 6, 0]]\n",
      "Tue's best schedule:[[0, 4, 5, 6, 0]]\n",
      "Wed's best schedule:[[0, 1, 5, 6, 3, 2, 0]]\n",
      "Thu's best schedule:[[0, 4, 5, 6, 0]]\n",
      "Fri's best schedule:[[0, 4, 5, 6, 0]]\n"
     ]
    }
   ],
   "source": [
    "mincost = 1000000 \n",
    "\n",
    "best_schedule = None \n",
    "\n",
    "for alpha in range(11):   \n",
    "    #step 3 & 4  \n",
    "    nk, Mon, Tue, Wed, Thu, Fri = create_schedule(alpha/10, P, n_max, n_min)  \n",
    "    #step 5 \n",
    "    travel_cost, schedule = calculate_total_week_cost(Mon, Tue, Wed, Thu, Fri, full_mat)\n",
    "    print(\"total travel cost when alpha:{} is {}\".format(alpha/10, travel_cost))\n",
    "    if travel_cost < mincost:  \n",
    "        mincost = travel_cost\n",
    "        best_schedule = schedule  \n",
    "        \n",
    "#print(best_schedule)   \n",
    "names = [\"Mon\",\"Tue\",\"Wed\",\"Thu\",\"Fri\"]\n",
    "for i in range(0,len(best_schedule)): \n",
    "    print(\"{}'s best schedule:{}\".format(names[i], best_schedule[i]))     "
   ]
  },
  {
   "cell_type": "code",
   "execution_count": null,
   "metadata": {},
   "outputs": [],
   "source": []
  }
 ],
 "metadata": {
  "kernelspec": {
   "display_name": "Python 3",
   "language": "python",
   "name": "python3"
  },
  "language_info": {
   "codemirror_mode": {
    "name": "ipython",
    "version": 3
   },
   "file_extension": ".py",
   "mimetype": "text/x-python",
   "name": "python",
   "nbconvert_exporter": "python",
   "pygments_lexer": "ipython3",
   "version": "3.6.5"
  }
 },
 "nbformat": 4,
 "nbformat_minor": 2
}
