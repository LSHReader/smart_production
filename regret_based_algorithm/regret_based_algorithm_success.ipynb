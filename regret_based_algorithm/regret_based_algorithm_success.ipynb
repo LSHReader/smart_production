{
 "cells": [
  {
   "cell_type": "code",
   "execution_count": 1,
   "metadata": {},
   "outputs": [],
   "source": [
    "import numpy as np\n",
    "import sys \n",
    "\n",
    "# no of rows are equal to the number of columns. \n",
    "n = int(input(\"Enter the number of rows in a matrix\")) \n",
    "mat = [[0 for x in range (n)] for y in range(n)] \n",
    "for i in range (n): \n",
    "    for j in range(n): \n",
    "     mat[i][j]=int(input()) "
   ]
  },
  {
   "cell_type": "code",
   "execution_count": 218,
   "metadata": {},
   "outputs": [],
   "source": [
    "\n",
    "#assign initial job list\n",
    "row_job = np.arange(n) + 1 #+1 for real job number\n",
    "col_job = np.arange(n) + 1 #+1 for real job number \n",
    "\n",
    "#substract row_min from mat \n",
    "pat = np.array(mat)  \n"
   ]
  },
  {
   "cell_type": "code",
   "execution_count": 219,
   "metadata": {},
   "outputs": [
    {
     "data": {
      "text/plain": [
       "array([[10000,    18,     3,     3,     6],\n",
       "       [   19, 10000,     9,    10,     5],\n",
       "       [    9,    18, 10000,    13,    20],\n",
       "       [    6,     6,     1, 10000,     2],\n",
       "       [   17,     1,    13,    17, 10000]])"
      ]
     },
     "execution_count": 219,
     "metadata": {},
     "output_type": "execute_result"
    }
   ],
   "source": [
    "pat"
   ]
  },
  {
   "cell_type": "code",
   "execution_count": 220,
   "metadata": {},
   "outputs": [],
   "source": [
    "# stack으로 assign job 하기\n",
    "stack = np.zeros((n*2)) \n",
    "\n",
    "def stack_push_jobs(top, element): \n",
    "    if top == -1:#empty stack\n",
    "        stack[top+1] = element #[rowjob,coljob]\n",
    "        return top + 1\n",
    "    if stack[top] != element: # 현재 top # 이미 있는 거랑 중복이 아니면 \n",
    "        stack[top+1] = element  \n",
    "        return top + 1\n",
    "    else:  \n",
    "        return top "
   ]
  },
  {
   "cell_type": "code",
   "execution_count": 216,
   "metadata": {},
   "outputs": [
    {
     "data": {
      "text/plain": [
       "array([0., 0., 0., 0., 0., 0., 0., 0., 0., 0.])"
      ]
     },
     "execution_count": 216,
     "metadata": {},
     "output_type": "execute_result"
    }
   ],
   "source": [
    "stack"
   ]
  },
  {
   "cell_type": "code",
   "execution_count": 221,
   "metadata": {},
   "outputs": [
    {
     "name": "stdout",
     "output_type": "stream",
     "text": [
      "Cmax:  19\n",
      "assigned_row_job:  5\n",
      "assigned_col_job:  2\n",
      "idx1:  (array([1], dtype=int64),)\n",
      "idx2:  (array([4], dtype=int64),)\n",
      "(1, 1)\n",
      "(1, 1)\n",
      "idx1:  (array([1], dtype=int64),)\n",
      "idx2:  (array([4], dtype=int64),)\n",
      "[1 2 3 4 5]\n",
      "[1 2 3 4 5]\n",
      "[[    9997        0        0        3]\n",
      " [      14        4        5 30000000]\n",
      " [       0     9991        4       11]\n",
      " [       5        0     9999        1]]\n",
      "Cmax:  24\n",
      "assigned_row_job:  3\n",
      "assigned_col_job:  1\n",
      "idx1:  (array([0], dtype=int64),)\n",
      "idx2:  (array([1], dtype=int64),)\n",
      "(1, 1)\n",
      "(1, 1)\n",
      "idx1:  (array([0], dtype=int64),)\n",
      "idx2:  (array([1], dtype=int64),)\n",
      "[1 2 3 4]\n",
      "[1 3 4 5]\n",
      "[[30000000        0        2]\n",
      " [       0        1 29999995]\n",
      " [       0     9999        0]]\n",
      "Cmax:  24\n",
      "assigned_row_job:  1\n",
      "assigned_col_job:  4\n",
      "idx1:  (array([2], dtype=int64),)\n",
      "idx2:  (array([], dtype=int64),)\n",
      "(1, 1)\n",
      "(1, 0)\n",
      "idx1:  (array([2], dtype=int64),)\n",
      "idx2:  (array([0], dtype=int64),)\n",
      "[1 2 4]\n",
      "[3 4 5]\n",
      "[[       0 29999995]\n",
      " [30000000        0]]\n",
      "Cmax:  24\n",
      "assigned_row_job:  2\n",
      "assigned_col_job:  3\n",
      "idx1:  (array([], dtype=int64),)\n",
      "idx2:  (array([], dtype=int64),)\n",
      "(1, 0)\n",
      "(1, 0)\n",
      "idx1:  (array([0], dtype=int64),)\n",
      "idx2:  (array([], dtype=int64),)\n",
      "[2 4]\n",
      "[3 5]\n",
      "[[0]]\n",
      "Cmax:  24\n",
      "assigned_row_job:  4\n",
      "assigned_col_job:  5\n",
      "idx1:  (array([], dtype=int64),)\n",
      "idx2:  (array([], dtype=int64),)\n",
      "(1, 0)\n",
      "(1, 0)\n",
      "idx1:  (array([0], dtype=int64),)\n",
      "idx2:  (array([], dtype=int64),)\n",
      "[4]\n",
      "[5]\n",
      "[]\n"
     ]
    }
   ],
   "source": [
    "## 여기서부터 n번 for문 돌리면 됨 \n",
    "new_n = n \n",
    "Cmax = 0\n",
    "top = -1\n",
    "\n",
    "\n",
    "for al_iter in range(n):\n",
    "    \n",
    "    \n",
    "    row_min = np.amin(pat, axis = 1)\n",
    "    \n",
    "    for i in range(new_n):\n",
    "        pat[i] = pat[i] - row_min[i] \n",
    "\n",
    "    #substract col_min from mat\n",
    "    col_min = np.amin(pat, axis = 0)\n",
    "    pat = pat - col_min  \n",
    "\n",
    "    #calculate value of Cmax \n",
    "    for i in range(new_n):\n",
    "        Cmax += row_min[i] + col_min[i] #row_min과 col_min의 모든 element값을 빼면 cmax가 나온다 \n",
    "    print(\"Cmax: \", Cmax)\n",
    "    \n",
    "    #regret matrix \n",
    "\n",
    "    regret_mat = np.zeros((new_n,new_n))\n",
    "    row_regret_min = 0\n",
    "    col_regret_min = 0\n",
    "\n",
    "    for i in range(new_n):  \n",
    "        for j in range(new_n):   \n",
    "            if(pat[i,j] == 0):  \n",
    "                row_regret_min = 30000000\n",
    "                col_regret_min = 30000000 \n",
    "                for k in range(new_n): #i빼고 colum min 구하기 \n",
    "                    if((k != i) & (pat[k,j] < col_regret_min)):\n",
    "                        col_regret_min = pat[k,j]\n",
    "                        #print(col_regret_min)\n",
    "                    if((k != j) & (pat[i,k] < row_regret_min)):\n",
    "                        row_regret_min = pat[i,k]\n",
    "                        #print(row_regret_min)\n",
    "                regret_mat[i,j] = row_regret_min + col_regret_min\n",
    "                    \n",
    "    #max regret의 index를 추출하기  \n",
    "    idx = np.unravel_index(np.argmax(regret_mat, axis=None), regret_mat.shape)   \n",
    "    \n",
    "\n",
    "    # reduced job number\n",
    "    assigned_row_job = row_job[idx[0]] \n",
    "    assigned_col_job = col_job[idx[1]] \n",
    "    print(\"assigned_row_job: \", assigned_row_job)\n",
    "    print(\"assigned_col_job: \", assigned_col_job)\n",
    "    #stack push\n",
    "    top = stack_push_jobs(top, assigned_row_job)  \n",
    "    top = stack_push_jobs(top, assigned_col_job)  \n",
    "    \n",
    "   \n",
    "    # return value to infinity of inverse assigned job  \n",
    "    idx1 = np.where(row_job == assigned_col_job) #top \n",
    "    idx2 = np.where(col_job == assigned_row_job) #top -1 \n",
    "    print(\"idx1: \", idx1)\n",
    "    print(\"idx2: \", idx2)  \n",
    "    \n",
    "    #연결되지 않는 경우 예외처리 \n",
    "    tmp1 = np.array(idx1)\n",
    "    tmp2 = np.array(idx2)\n",
    "    print(tmp1.shape)\n",
    "    print(tmp2.shape)\n",
    "    if tmp1.shape == (1,0):\n",
    "        idx1 = np.where(row_job == stack[top-1])\n",
    "        idx2 = np.where(col_job == stack[top-2])\n",
    "    #예제에서는 이 경우만 해당될듯\n",
    "    if tmp2.shape == (1,0):\n",
    "        idx2 = np.where(col_job == stack[top-2])\n",
    "    print(\"idx1: \", idx1)\n",
    "    print(\"idx2: \", idx2) \n",
    "    \n",
    "    pat[idx1,idx2] = 30000000\n",
    "    \n",
    "    \n",
    "    print(row_job)\n",
    "    print(col_job)\n",
    "    \n",
    "    # reduce jobs   \n",
    "    row_job = np.delete(row_job, idx[0]) \n",
    "    col_job = np.delete(col_job, idx[1])  \n",
    "    \n",
    "    # reduce matrix \n",
    "    pat = np.delete(pat, idx[0], 0)\n",
    "    pat = np.delete(pat, idx[1], 1)\n",
    "    pat #reduced matrix  \n",
    "    print(pat)  \n",
    "    new_n = new_n - 1  \n",
    "    \n",
    "    "
   ]
  },
  {
   "cell_type": "code",
   "execution_count": 222,
   "metadata": {},
   "outputs": [
    {
     "data": {
      "text/plain": [
       "array([5., 2., 3., 1., 4., 2., 3., 4., 5., 0.])"
      ]
     },
     "execution_count": 222,
     "metadata": {},
     "output_type": "execute_result"
    }
   ],
   "source": [
    "stack"
   ]
  },
  {
   "cell_type": "code",
   "execution_count": 223,
   "metadata": {},
   "outputs": [
    {
     "data": {
      "text/plain": [
       "24"
      ]
     },
     "execution_count": 223,
     "metadata": {},
     "output_type": "execute_result"
    }
   ],
   "source": [
    "Cmax"
   ]
  },
  {
   "cell_type": "code",
   "execution_count": 189,
   "metadata": {},
   "outputs": [
    {
     "data": {
      "text/plain": [
       "True"
      ]
     },
     "execution_count": 189,
     "metadata": {},
     "output_type": "execute_result"
    }
   ],
   "source": []
  }
 ],
 "metadata": {
  "kernelspec": {
   "display_name": "Python 3",
   "language": "python",
   "name": "python3"
  },
  "language_info": {
   "codemirror_mode": {
    "name": "ipython",
    "version": 3
   },
   "file_extension": ".py",
   "mimetype": "text/x-python",
   "name": "python",
   "nbconvert_exporter": "python",
   "pygments_lexer": "ipython3",
   "version": "3.6.5"
  }
 },
 "nbformat": 4,
 "nbformat_minor": 2
}
